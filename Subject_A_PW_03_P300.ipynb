{
  "nbformat": 4,
  "nbformat_minor": 0,
  "metadata": {
    "colab": {
      "name": "Subject_A_PW_03_P300.ipynb",
      "provenance": [],
      "collapsed_sections": [],
      "toc_visible": true
    },
    "kernelspec": {
      "name": "python3",
      "display_name": "Python 3"
    },
    "widgets": {
      "application/vnd.jupyter.widget-state+json": {
        "0b2ed9a5cffc4ba8af96d983affbc527": {
          "model_module": "@jupyter-widgets/controls",
          "model_name": "HBoxModel",
          "state": {
            "_view_name": "HBoxView",
            "_dom_classes": [],
            "_model_name": "HBoxModel",
            "_view_module": "@jupyter-widgets/controls",
            "_model_module_version": "1.5.0",
            "_view_count": null,
            "_view_module_version": "1.5.0",
            "box_style": "",
            "layout": "IPY_MODEL_20dc1f54cad34c538183d45b7b59ce25",
            "_model_module": "@jupyter-widgets/controls",
            "children": [
              "IPY_MODEL_597445e693a04aada76a95639d245c09",
              "IPY_MODEL_e2069f19e89d4a3c9e168b26db9a3e25"
            ]
          }
        },
        "20dc1f54cad34c538183d45b7b59ce25": {
          "model_module": "@jupyter-widgets/base",
          "model_name": "LayoutModel",
          "state": {
            "_view_name": "LayoutView",
            "grid_template_rows": null,
            "right": null,
            "justify_content": null,
            "_view_module": "@jupyter-widgets/base",
            "overflow": null,
            "_model_module_version": "1.2.0",
            "_view_count": null,
            "flex_flow": null,
            "width": null,
            "min_width": null,
            "border": null,
            "align_items": null,
            "bottom": null,
            "_model_module": "@jupyter-widgets/base",
            "top": null,
            "grid_column": null,
            "overflow_y": null,
            "overflow_x": null,
            "grid_auto_flow": null,
            "grid_area": null,
            "grid_template_columns": null,
            "flex": null,
            "_model_name": "LayoutModel",
            "justify_items": null,
            "grid_row": null,
            "max_height": null,
            "align_content": null,
            "visibility": null,
            "align_self": null,
            "height": null,
            "min_height": null,
            "padding": null,
            "grid_auto_rows": null,
            "grid_gap": null,
            "max_width": null,
            "order": null,
            "_view_module_version": "1.2.0",
            "grid_template_areas": null,
            "object_position": null,
            "object_fit": null,
            "grid_auto_columns": null,
            "margin": null,
            "display": null,
            "left": null
          }
        },
        "597445e693a04aada76a95639d245c09": {
          "model_module": "@jupyter-widgets/controls",
          "model_name": "FloatProgressModel",
          "state": {
            "_view_name": "ProgressView",
            "style": "IPY_MODEL_be2610aaba8a487da22ee6bd0dc100f6",
            "_dom_classes": [],
            "description": "Trials: 100%",
            "_model_name": "FloatProgressModel",
            "bar_style": "success",
            "max": 85,
            "_view_module": "@jupyter-widgets/controls",
            "_model_module_version": "1.5.0",
            "value": 85,
            "_view_count": null,
            "_view_module_version": "1.5.0",
            "orientation": "horizontal",
            "min": 0,
            "description_tooltip": null,
            "_model_module": "@jupyter-widgets/controls",
            "layout": "IPY_MODEL_9c6cce9fdf434517bd5c784040a9c29d"
          }
        },
        "e2069f19e89d4a3c9e168b26db9a3e25": {
          "model_module": "@jupyter-widgets/controls",
          "model_name": "HTMLModel",
          "state": {
            "_view_name": "HTMLView",
            "style": "IPY_MODEL_d0a63b20dcec49dba82f32defbbeba9a",
            "_dom_classes": [],
            "description": "",
            "_model_name": "HTMLModel",
            "placeholder": "​",
            "_view_module": "@jupyter-widgets/controls",
            "_model_module_version": "1.5.0",
            "value": " 85/85 [00:39&lt;00:00,  2.14it/s]",
            "_view_count": null,
            "_view_module_version": "1.5.0",
            "description_tooltip": null,
            "_model_module": "@jupyter-widgets/controls",
            "layout": "IPY_MODEL_e5374a708bba40ffb3a8d574ea8a7eca"
          }
        },
        "be2610aaba8a487da22ee6bd0dc100f6": {
          "model_module": "@jupyter-widgets/controls",
          "model_name": "ProgressStyleModel",
          "state": {
            "_view_name": "StyleView",
            "_model_name": "ProgressStyleModel",
            "description_width": "initial",
            "_view_module": "@jupyter-widgets/base",
            "_model_module_version": "1.5.0",
            "_view_count": null,
            "_view_module_version": "1.2.0",
            "bar_color": null,
            "_model_module": "@jupyter-widgets/controls"
          }
        },
        "9c6cce9fdf434517bd5c784040a9c29d": {
          "model_module": "@jupyter-widgets/base",
          "model_name": "LayoutModel",
          "state": {
            "_view_name": "LayoutView",
            "grid_template_rows": null,
            "right": null,
            "justify_content": null,
            "_view_module": "@jupyter-widgets/base",
            "overflow": null,
            "_model_module_version": "1.2.0",
            "_view_count": null,
            "flex_flow": null,
            "width": null,
            "min_width": null,
            "border": null,
            "align_items": null,
            "bottom": null,
            "_model_module": "@jupyter-widgets/base",
            "top": null,
            "grid_column": null,
            "overflow_y": null,
            "overflow_x": null,
            "grid_auto_flow": null,
            "grid_area": null,
            "grid_template_columns": null,
            "flex": null,
            "_model_name": "LayoutModel",
            "justify_items": null,
            "grid_row": null,
            "max_height": null,
            "align_content": null,
            "visibility": null,
            "align_self": null,
            "height": null,
            "min_height": null,
            "padding": null,
            "grid_auto_rows": null,
            "grid_gap": null,
            "max_width": null,
            "order": null,
            "_view_module_version": "1.2.0",
            "grid_template_areas": null,
            "object_position": null,
            "object_fit": null,
            "grid_auto_columns": null,
            "margin": null,
            "display": null,
            "left": null
          }
        },
        "d0a63b20dcec49dba82f32defbbeba9a": {
          "model_module": "@jupyter-widgets/controls",
          "model_name": "DescriptionStyleModel",
          "state": {
            "_view_name": "StyleView",
            "_model_name": "DescriptionStyleModel",
            "description_width": "",
            "_view_module": "@jupyter-widgets/base",
            "_model_module_version": "1.5.0",
            "_view_count": null,
            "_view_module_version": "1.2.0",
            "_model_module": "@jupyter-widgets/controls"
          }
        },
        "e5374a708bba40ffb3a8d574ea8a7eca": {
          "model_module": "@jupyter-widgets/base",
          "model_name": "LayoutModel",
          "state": {
            "_view_name": "LayoutView",
            "grid_template_rows": null,
            "right": null,
            "justify_content": null,
            "_view_module": "@jupyter-widgets/base",
            "overflow": null,
            "_model_module_version": "1.2.0",
            "_view_count": null,
            "flex_flow": null,
            "width": null,
            "min_width": null,
            "border": null,
            "align_items": null,
            "bottom": null,
            "_model_module": "@jupyter-widgets/base",
            "top": null,
            "grid_column": null,
            "overflow_y": null,
            "overflow_x": null,
            "grid_auto_flow": null,
            "grid_area": null,
            "grid_template_columns": null,
            "flex": null,
            "_model_name": "LayoutModel",
            "justify_items": null,
            "grid_row": null,
            "max_height": null,
            "align_content": null,
            "visibility": null,
            "align_self": null,
            "height": null,
            "min_height": null,
            "padding": null,
            "grid_auto_rows": null,
            "grid_gap": null,
            "max_width": null,
            "order": null,
            "_view_module_version": "1.2.0",
            "grid_template_areas": null,
            "object_position": null,
            "object_fit": null,
            "grid_auto_columns": null,
            "margin": null,
            "display": null,
            "left": null
          }
        },
        "b631ac9a76ee481887a94ce6bf0bace8": {
          "model_module": "@jupyter-widgets/controls",
          "model_name": "HBoxModel",
          "state": {
            "_view_name": "HBoxView",
            "_dom_classes": [],
            "_model_name": "HBoxModel",
            "_view_module": "@jupyter-widgets/controls",
            "_model_module_version": "1.5.0",
            "_view_count": null,
            "_view_module_version": "1.5.0",
            "box_style": "",
            "layout": "IPY_MODEL_e0df5716cd35485289460686d17c948a",
            "_model_module": "@jupyter-widgets/controls",
            "children": [
              "IPY_MODEL_bd7d501c0c6a47439ddaaa5ea380227b",
              "IPY_MODEL_fcc55ad02b204349ad0547f5b00df00b"
            ]
          }
        },
        "e0df5716cd35485289460686d17c948a": {
          "model_module": "@jupyter-widgets/base",
          "model_name": "LayoutModel",
          "state": {
            "_view_name": "LayoutView",
            "grid_template_rows": null,
            "right": null,
            "justify_content": null,
            "_view_module": "@jupyter-widgets/base",
            "overflow": null,
            "_model_module_version": "1.2.0",
            "_view_count": null,
            "flex_flow": null,
            "width": null,
            "min_width": null,
            "border": null,
            "align_items": null,
            "bottom": null,
            "_model_module": "@jupyter-widgets/base",
            "top": null,
            "grid_column": null,
            "overflow_y": null,
            "overflow_x": null,
            "grid_auto_flow": null,
            "grid_area": null,
            "grid_template_columns": null,
            "flex": null,
            "_model_name": "LayoutModel",
            "justify_items": null,
            "grid_row": null,
            "max_height": null,
            "align_content": null,
            "visibility": null,
            "align_self": null,
            "height": null,
            "min_height": null,
            "padding": null,
            "grid_auto_rows": null,
            "grid_gap": null,
            "max_width": null,
            "order": null,
            "_view_module_version": "1.2.0",
            "grid_template_areas": null,
            "object_position": null,
            "object_fit": null,
            "grid_auto_columns": null,
            "margin": null,
            "display": null,
            "left": null
          }
        },
        "bd7d501c0c6a47439ddaaa5ea380227b": {
          "model_module": "@jupyter-widgets/controls",
          "model_name": "FloatProgressModel",
          "state": {
            "_view_name": "ProgressView",
            "style": "IPY_MODEL_3935b48256644ae4926a43ee1fb25eca",
            "_dom_classes": [],
            "description": "Trials: 100%",
            "_model_name": "FloatProgressModel",
            "bar_style": "success",
            "max": 100,
            "_view_module": "@jupyter-widgets/controls",
            "_model_module_version": "1.5.0",
            "value": 100,
            "_view_count": null,
            "_view_module_version": "1.5.0",
            "orientation": "horizontal",
            "min": 0,
            "description_tooltip": null,
            "_model_module": "@jupyter-widgets/controls",
            "layout": "IPY_MODEL_5fc23d234ef240cbae205147e2033722"
          }
        },
        "fcc55ad02b204349ad0547f5b00df00b": {
          "model_module": "@jupyter-widgets/controls",
          "model_name": "HTMLModel",
          "state": {
            "_view_name": "HTMLView",
            "style": "IPY_MODEL_159d675e49a948f7a1e30773ac2d080a",
            "_dom_classes": [],
            "description": "",
            "_model_name": "HTMLModel",
            "placeholder": "​",
            "_view_module": "@jupyter-widgets/controls",
            "_model_module_version": "1.5.0",
            "value": " 100/100 [00:53&lt;00:00,  1.88it/s]",
            "_view_count": null,
            "_view_module_version": "1.5.0",
            "description_tooltip": null,
            "_model_module": "@jupyter-widgets/controls",
            "layout": "IPY_MODEL_8e314e64c9944141a5763ca6ec7a70d3"
          }
        },
        "3935b48256644ae4926a43ee1fb25eca": {
          "model_module": "@jupyter-widgets/controls",
          "model_name": "ProgressStyleModel",
          "state": {
            "_view_name": "StyleView",
            "_model_name": "ProgressStyleModel",
            "description_width": "initial",
            "_view_module": "@jupyter-widgets/base",
            "_model_module_version": "1.5.0",
            "_view_count": null,
            "_view_module_version": "1.2.0",
            "bar_color": null,
            "_model_module": "@jupyter-widgets/controls"
          }
        },
        "5fc23d234ef240cbae205147e2033722": {
          "model_module": "@jupyter-widgets/base",
          "model_name": "LayoutModel",
          "state": {
            "_view_name": "LayoutView",
            "grid_template_rows": null,
            "right": null,
            "justify_content": null,
            "_view_module": "@jupyter-widgets/base",
            "overflow": null,
            "_model_module_version": "1.2.0",
            "_view_count": null,
            "flex_flow": null,
            "width": null,
            "min_width": null,
            "border": null,
            "align_items": null,
            "bottom": null,
            "_model_module": "@jupyter-widgets/base",
            "top": null,
            "grid_column": null,
            "overflow_y": null,
            "overflow_x": null,
            "grid_auto_flow": null,
            "grid_area": null,
            "grid_template_columns": null,
            "flex": null,
            "_model_name": "LayoutModel",
            "justify_items": null,
            "grid_row": null,
            "max_height": null,
            "align_content": null,
            "visibility": null,
            "align_self": null,
            "height": null,
            "min_height": null,
            "padding": null,
            "grid_auto_rows": null,
            "grid_gap": null,
            "max_width": null,
            "order": null,
            "_view_module_version": "1.2.0",
            "grid_template_areas": null,
            "object_position": null,
            "object_fit": null,
            "grid_auto_columns": null,
            "margin": null,
            "display": null,
            "left": null
          }
        },
        "159d675e49a948f7a1e30773ac2d080a": {
          "model_module": "@jupyter-widgets/controls",
          "model_name": "DescriptionStyleModel",
          "state": {
            "_view_name": "StyleView",
            "_model_name": "DescriptionStyleModel",
            "description_width": "",
            "_view_module": "@jupyter-widgets/base",
            "_model_module_version": "1.5.0",
            "_view_count": null,
            "_view_module_version": "1.2.0",
            "_model_module": "@jupyter-widgets/controls"
          }
        },
        "8e314e64c9944141a5763ca6ec7a70d3": {
          "model_module": "@jupyter-widgets/base",
          "model_name": "LayoutModel",
          "state": {
            "_view_name": "LayoutView",
            "grid_template_rows": null,
            "right": null,
            "justify_content": null,
            "_view_module": "@jupyter-widgets/base",
            "overflow": null,
            "_model_module_version": "1.2.0",
            "_view_count": null,
            "flex_flow": null,
            "width": null,
            "min_width": null,
            "border": null,
            "align_items": null,
            "bottom": null,
            "_model_module": "@jupyter-widgets/base",
            "top": null,
            "grid_column": null,
            "overflow_y": null,
            "overflow_x": null,
            "grid_auto_flow": null,
            "grid_area": null,
            "grid_template_columns": null,
            "flex": null,
            "_model_name": "LayoutModel",
            "justify_items": null,
            "grid_row": null,
            "max_height": null,
            "align_content": null,
            "visibility": null,
            "align_self": null,
            "height": null,
            "min_height": null,
            "padding": null,
            "grid_auto_rows": null,
            "grid_gap": null,
            "max_width": null,
            "order": null,
            "_view_module_version": "1.2.0",
            "grid_template_areas": null,
            "object_position": null,
            "object_fit": null,
            "grid_auto_columns": null,
            "margin": null,
            "display": null,
            "left": null
          }
        }
      }
    }
  },
  "cells": [
    {
      "cell_type": "markdown",
      "metadata": {
        "id": "RuquGWvQEhlA"
      },
      "source": [
        "#**Visualization of P300 and no-P300 epochs - BCI Competition III**"
      ]
    },
    {
      "cell_type": "markdown",
      "metadata": {
        "id": "_GTnVbj8Enb8"
      },
      "source": [
        "#Access GoogleDrive"
      ]
    },
    {
      "cell_type": "code",
      "metadata": {
        "id": "iKGLbWlNEpB6"
      },
      "source": [
        "from google.colab import drive"
      ],
      "execution_count": null,
      "outputs": []
    },
    {
      "cell_type": "code",
      "metadata": {
        "id": "jzuaftAu2LIU"
      },
      "source": [
        "\n",
        "import matplotlib.pyplot as plt   \n",
        "import numpy as np                \n",
        "import os                         \n",
        "import pandas as pd\n",
        "from pathlib import Path          \n",
        "from scipy.io import loadmat      \n",
        "from scipy import signal          \n",
        "from tqdm.auto import tqdm        \n",
        "from google.colab import drive\n",
        "import h5py"
      ],
      "execution_count": null,
      "outputs": []
    },
    {
      "cell_type": "code",
      "metadata": {
        "id": "KDs_C5zuEzaj",
        "colab": {
          "base_uri": "https://localhost:8080/"
        },
        "outputId": "3228aac4-4470-4067-99d6-634d95b44b9a"
      },
      "source": [
        "drive.mount('/content/drive')"
      ],
      "execution_count": null,
      "outputs": [
        {
          "output_type": "stream",
          "text": [
            "Drive already mounted at /content/drive; to attempt to forcibly remount, call drive.mount(\"/content/drive\", force_remount=True).\n"
          ],
          "name": "stdout"
        }
      ]
    },
    {
      "cell_type": "code",
      "metadata": {
        "id": "mXa9KVVA2kyj",
        "colab": {
          "base_uri": "https://localhost:8080/"
        },
        "outputId": "714b9a09-6887-4fc1-d496-02a9477ff76a"
      },
      "source": [
        "CHANNEL_LOCATIONS_FILE_PATH = Path('drive') / 'MyDrive' / 'workshop_neuro'  / 'material'/ 'channels.csv'\n",
        "SUBJECT_A_TRAIN_FILE_PATH = Path('drive') / 'MyDrive' / 'workshop_neuro'  / 'material'/ 'Subject_A_Train.mat'\n",
        "SUBJECT_A_TEST_FILE_PATH = Path('drive') / 'MyDrive' / 'workshop_neuro'  / 'material'/ 'Subject_A_Test.mat'\n",
        "SUBJECT_A_TEST_CHARS_FILE_PATH = Path('drive') / 'MyDrive' / 'workshop_neuro' / 'material' / 'TestTargetChars.mat'\n",
        "CHANNEL_LOCATIONS_FILE_PATH.exists()"
      ],
      "execution_count": null,
      "outputs": [
        {
          "output_type": "execute_result",
          "data": {
            "text/plain": [
              "True"
            ]
          },
          "metadata": {
            "tags": []
          },
          "execution_count": 3
        }
      ]
    },
    {
      "cell_type": "code",
      "metadata": {
        "colab": {
          "base_uri": "https://localhost:8080/",
          "height": 150
        },
        "id": "psRsqDYxJurg",
        "outputId": "3708b3b5-5a4b-4667-a530-df2702d7503b"
      },
      "source": [
        "'''CHANNEL_LOCATIONS_FILE_PATH = Path('drive') / 'MyDrive' / 'Colab Notebooks' / 'projeto' / 'channels.csv'\n",
        "SUBJECT_A_TRAIN_FILE_PATH = Path('drive') / 'MyDrive' / 'Colab Notebooks' / 'projeto' / 'Subject_A_Train.mat'\n",
        "SUBJECT_A_TEST_FILE_PATH = Path('drive') / 'MyDrive' / 'Colab Notebooks' / 'projeto' / 'Subject_A_Test.mat'\n",
        "SUBJECT_A_TEST_CHARS_FILE_PATH = Path('drive') / 'MyDrive' / 'Colab Notebooks' / 'projeto' / 'TestTargetChars.mat'\n",
        "CHANNEL_LOCATIONS_FILE_PATH.exists()\n",
        "SUBJECT_A_TEST_FILE_PATH.exists()"
      ],
      "execution_count": null,
      "outputs": [
        {
          "output_type": "error",
          "ename": "SyntaxError",
          "evalue": "ignored",
          "traceback": [
            "\u001b[0;36m  File \u001b[0;32m\"<ipython-input-6-3b63e58131b9>\"\u001b[0;36m, line \u001b[0;32m6\u001b[0m\n\u001b[0;31m    SUBJECT_A_TEST_FILE_PATH.exists()\u001b[0m\n\u001b[0m                                     \n^\u001b[0m\n\u001b[0;31mSyntaxError\u001b[0m\u001b[0;31m:\u001b[0m EOF while scanning triple-quoted string literal\n"
          ]
        }
      ]
    },
    {
      "cell_type": "markdown",
      "metadata": {
        "id": "YW9FigT84KEE"
      },
      "source": [
        "# Channels extraction"
      ]
    },
    {
      "cell_type": "code",
      "metadata": {
        "id": "tqegu7cL3TDt"
      },
      "source": [
        "if not CHANNEL_LOCATIONS_FILE_PATH.exists():\n",
        "    print(f\"Missing file: {CHANNEL_LOCATIONS_FILE_PATH}\")\n",
        "else:\n",
        "  CHANNELS = []\n",
        "  # Read file content\n",
        "  with open(CHANNEL_LOCATIONS_FILE_PATH, \"r\") as f:\n",
        "    file_content = f.read()\n",
        "    # Loop over all rows (except first one)\n",
        "    for row in file_content.split(\"\\n\")[1:]: \n",
        "      # Skip missing rows\n",
        "      if row == '':\n",
        "        continue\n",
        "      CHANNELS.append(row)"
      ],
      "execution_count": null,
      "outputs": []
    },
    {
      "cell_type": "markdown",
      "metadata": {
        "id": "Djax5M99FEkh"
      },
      "source": [
        "#Subject A extraction"
      ]
    },
    {
      "cell_type": "markdown",
      "metadata": {
        "id": "BxXh_wJYFGGQ"
      },
      "source": [
        "## Subject A train "
      ]
    },
    {
      "cell_type": "code",
      "metadata": {
        "id": "4xf5DFP13e5t"
      },
      "source": [
        "if not SUBJECT_A_TRAIN_FILE_PATH.exists():\n",
        "    print(f\"Missing file: {SUBJECT_A_TRAIN_FILE_PATH}\")\n",
        "else:\n",
        "  \n",
        "  # Load the required data\n",
        "  data_train = loadmat(SUBJECT_A_TRAIN_FILE_PATH)\n",
        "  \n",
        "  # Get the variables of interest from the loaded dictionary\n",
        "  signals_train = data_train['Signal']\n",
        "  flashing_train= data_train['Flashing']\n",
        "  chars_train = data_train['TargetChar']\n",
        "  chars_train = list(chars_train[0])\n",
        "  chars_train = np.array(chars_train)\n",
        "  \n",
        "  # From the dataset description we know that there are 15 repetitions\n",
        "  REPETITIONS = 15\n",
        " \n",
        "  # Compute the recording duration\n",
        "  SAMPLING_FREQUENCY = 240 # -> Data are sampled at 240 Hz\n",
        "  \n",
        "  # Compute the duration of the recording in minutes\n",
        "  RECORDING_DURATION_TRAIN = (len(signals_train))*(len(signals_train[0]))/(SAMPLING_FREQUENCY*60)\n",
        "  \n",
        "  # Compute number of trials\n",
        "  TRIALS_TRAIN = len(chars_train)\n",
        "  \n",
        "  # Compute number of samples per trial\n",
        "  SAMPLES_PER_TRIAL_TRAIN = len(signals_train[0])"
      ],
      "execution_count": null,
      "outputs": []
    },
    {
      "cell_type": "markdown",
      "metadata": {
        "id": "ievkCRbG4SYz"
      },
      "source": [
        "## Subject A test "
      ]
    },
    {
      "cell_type": "code",
      "metadata": {
        "id": "hLEtk9bq3s7s"
      },
      "source": [
        "if not SUBJECT_A_TEST_FILE_PATH.exists():\n",
        "    print(f\"Missing file: {SUBJECT_A_TEST_FILE_PATH}\")\n",
        "else:\n",
        "\n",
        "  # Load the required data\n",
        "  data_test = loadmat(SUBJECT_A_TEST_FILE_PATH)\n",
        "\n",
        "  # Get the variables of interest from the loaded dictionary\n",
        "  signals_test = data_test['Signal']\n",
        "  flashing_test = data_test['Flashing']\n",
        "\n",
        "if not SUBJECT_A_TEST_CHARS_FILE_PATH.exists():\n",
        "    print(f\"Missing file: {SUBJECT_A_TEST_CHARS_FILE_PATH}\")\n",
        "else:\n",
        "\n",
        "  # Load the required data\n",
        "  data_test_char = loadmat(SUBJECT_A_TEST_CHARS_FILE_PATH)\n",
        "\n",
        "  # Get the variables of interest from the loaded dictionary\n",
        "  chars_test = data_test_char['A_TargetChar']\n",
        "  chars_test =  list(chars_test[0])  \n",
        "  chars_test =  np.array(chars_test)\n",
        "\n",
        "  # From the dataset description we know that there are 15 repetitions\n",
        "  RECORDING_DURATION_TEST = (len(signals_test))*(len(signals_test[0]))/(SAMPLING_FREQUENCY*60)\n",
        "\n",
        "  # Compute number of samples per trial\n",
        "  TRIALS_TEST = len(chars_test)\n",
        "  SAMPLES_PER_TRIAL_TEST = len(signals_test[0])"
      ],
      "execution_count": null,
      "outputs": []
    },
    {
      "cell_type": "code",
      "metadata": {
        "colab": {
          "base_uri": "https://localhost:8080/"
        },
        "id": "yKjdBHA7izxp",
        "outputId": "1ed44d35-dfb7-41e2-b8ab-fe26a15fa4eb"
      },
      "source": [
        "# Here are all the informations about the dataset of subject B\n",
        "\n",
        "print(\"**********************************\")\n",
        "print(\"        DATASET INFORMATION       \")\n",
        "print(\"**********************************\")\n",
        "print(\"Sampling Frequency: %d Hz [%.2f ms]\" % (SAMPLING_FREQUENCY, (1000/SAMPLING_FREQUENCY)))\n",
        "print(\"Session duration train:   %.2f\" % RECORDING_DURATION_TRAIN)\n",
        "print(\"Session duration test:   %.2f\" % RECORDING_DURATION_TEST)\n",
        "print(\"Number of letters train:  %d\" % TRIALS_TRAIN)\n",
        "print(\"Number of letters test:  %d\" % TRIALS_TEST)\n",
        "print(\"Spelled word train:       %s\" % chars_train)\n",
        "print(\"Spelled word test:       %s\" % chars_test)\n",
        "print(\"signals shape train:\", signals_train.shape)\n",
        "print(\"signals shape test:\", signals_test.shape)\n",
        "print(\"signals size train:\", signals_train.size) \n",
        "print(\"signals size test:\", signals_test.size) \n",
        "print(\"sample per trial train:\", SAMPLES_PER_TRIAL_TRAIN)\n",
        "print(\"sample per trial test:\", SAMPLES_PER_TRIAL_TEST)"
      ],
      "execution_count": null,
      "outputs": [
        {
          "output_type": "stream",
          "text": [
            "**********************************\n",
            "        DATASET INFORMATION       \n",
            "**********************************\n",
            "Sampling Frequency: 240 Hz [4.17 ms]\n",
            "Session duration train:   46.01\n",
            "Session duration test:   54.12\n",
            "Number of letters train:  85\n",
            "Number of letters test:  100\n",
            "Spelled word train:       ['E' 'A' 'E' 'V' 'Q' 'T' 'D' 'O' 'J' 'G' '8' 'R' 'B' 'R' 'G' 'O' 'N' 'C'\n",
            " 'E' 'D' 'H' 'C' 'T' 'U' 'I' 'D' 'B' 'P' 'U' 'H' 'M' 'E' 'M' '6' 'O' 'U'\n",
            " 'X' 'O' 'C' 'F' 'O' 'U' 'K' 'W' 'A' '4' 'V' 'J' 'E' 'F' 'R' 'Z' 'R' 'O'\n",
            " 'L' 'H' 'Y' 'N' 'Q' 'D' 'W' '_' 'E' 'K' 'T' 'L' 'B' 'W' 'X' 'E' 'P' 'O'\n",
            " 'U' 'I' 'K' 'Z' 'E' 'R' 'Y' 'O' 'O' 'T' 'H' 'Q' 'I']\n",
            "Spelled word test:       ['W' 'Q' 'X' 'P' 'L' 'Z' 'C' 'O' 'M' 'R' 'K' 'O' '9' '7' 'Y' 'F' 'Z' 'D'\n",
            " 'E' 'Z' '1' 'D' 'P' 'I' '9' 'N' 'N' 'V' 'G' 'R' 'Q' 'D' 'J' 'C' 'U' 'V'\n",
            " 'R' 'M' 'E' 'U' 'O' 'O' 'O' 'J' 'D' '2' 'U' 'F' 'Y' 'P' 'O' 'O' '6' 'J'\n",
            " '7' 'L' 'D' 'G' 'Y' 'E' 'G' 'O' 'A' '5' 'V' 'H' 'N' 'E' 'H' 'B' 'T' 'X'\n",
            " 'O' 'O' '1' 'T' 'D' 'O' 'I' 'L' 'U' 'E' 'E' '5' 'B' 'F' 'A' 'E' 'E' 'X'\n",
            " 'A' 'W' '_' 'K' '4' 'R' '3' 'M' 'R' 'U']\n",
            "signals shape train: (85, 7794, 64)\n",
            "signals shape test: (100, 7794, 64)\n",
            "signals size train: 42399360\n",
            "signals size test: 49881600\n",
            "sample per trial train: 7794\n",
            "sample per trial test: 7794\n"
          ],
          "name": "stdout"
        }
      ]
    },
    {
      "cell_type": "markdown",
      "metadata": {
        "id": "nAH7cA_i4ryl"
      },
      "source": [
        "#Epochs subject A extraction"
      ]
    },
    {
      "cell_type": "markdown",
      "metadata": {
        "id": "_EMNapT6FfK4"
      },
      "source": [
        "## Epochs train subject A"
      ]
    },
    {
      "cell_type": "code",
      "metadata": {
        "colab": {
          "base_uri": "https://localhost:8080/",
          "height": 66,
          "referenced_widgets": [
            "0b2ed9a5cffc4ba8af96d983affbc527",
            "20dc1f54cad34c538183d45b7b59ce25",
            "597445e693a04aada76a95639d245c09",
            "e2069f19e89d4a3c9e168b26db9a3e25",
            "be2610aaba8a487da22ee6bd0dc100f6",
            "9c6cce9fdf434517bd5c784040a9c29d",
            "d0a63b20dcec49dba82f32defbbeba9a",
            "e5374a708bba40ffb3a8d574ea8a7eca"
          ]
        },
        "id": "f1DtRKoE4kMR",
        "outputId": "2514487c-871e-4c5a-a120-7f0eb929adc5"
      },
      "source": [
        "epochs_train = []           # Init 3D array to store EEG epochs\n",
        "epochDuration = int(SAMPLING_FREQUENCY/1000*1000)  # Duration of th epoch is 1000 ms\n",
        "epoch_labels_binary_train = [] # Init 3D array to store the target\n",
        "stimulus_code_train=[]\n",
        "averagePositiveEpoch = [[0 for i in range(len(CHANNELS))] for i in range(epochDuration)] # Init average array to 0\n",
        "averageNegativeEpoch = [[0 for i in range(len(CHANNELS))] for i in range(epochDuration)] # Init average array to 0 \n",
        "\n",
        "positiveEpochs = 0 # Counter for positive epochs (P300)\n",
        "negativeEpochs = 0 # Counter for negative epochs (no-P300)\n",
        "\n",
        "# Let's prepare our butterworth filter\n",
        "b,a = signal.butter(4, [0.1/SAMPLING_FREQUENCY/2, 20/SAMPLING_FREQUENCY/2], 'bandpass')\n",
        "P300=1\n",
        "NP300=0\n",
        "stimulustype_train=[]\n",
        "# For loop over all the trials\n",
        "for trial in tqdm(range(TRIALS_TRAIN),desc='Trials'):\n",
        "  for sample in range(SAMPLES_PER_TRIAL_TRAIN):\n",
        "    \n",
        "    # Check if flashing changed from 0 or 1 or if it's the first sample (always 1)\n",
        "    if ( sample == 0 or (flashing_train[trial, sample-1] == 0 and flashing_train[trial, sample] == 1)):\n",
        "      \n",
        "      # We have an epoch to extract\n",
        "      lower_sample = sample\n",
        "      upper_sample = sample + epochDuration\n",
        "      epoch = signals_train[trial, int(lower_sample):int(upper_sample), :]\n",
        "      epoch = signal.filtfilt(b, a, epoch, axis = 0)\n",
        "      epochs_train.append(epoch)\n",
        "      stimulus_code_train.append(data_train['StimulusCode'][trial][sample])\n",
        "      stimulustype_train.append(data_train['StimulusType'][trial, sample])\n",
        "      # Check if P300 or no P300\n",
        "      if (data_train['StimulusType'][trial, sample] == 1):\n",
        "        averagePositiveEpoch = averagePositiveEpoch + epoch\n",
        "        positiveEpochs = positiveEpochs + 1\n",
        "        epoch_labels_binary_train.append(P300)\n",
        "       \n",
        "      else:\n",
        "        averageNegativeEpoch = averageNegativeEpoch + epoch\n",
        "        negativeEpochs = negativeEpochs + 1\n",
        "        epoch_labels_binary_train.append(NP300)\n",
        "        \n",
        "# Compute average\n",
        "averagePositiveEpoch = averagePositiveEpoch/positiveEpochs\n",
        "averageNegativeEpoch = averageNegativeEpoch/negativeEpochs \n",
        "epochs_train = np.array(epochs_train)\n",
        "\n",
        "epoch_labels_binary_train = np.array(epoch_labels_binary_train)\n",
        "stimulus_code_train = np.array(stimulus_code_train)"
      ],
      "execution_count": null,
      "outputs": [
        {
          "output_type": "display_data",
          "data": {
            "application/vnd.jupyter.widget-view+json": {
              "model_id": "0b2ed9a5cffc4ba8af96d983affbc527",
              "version_minor": 0,
              "version_major": 2
            },
            "text/plain": [
              "HBox(children=(FloatProgress(value=0.0, description='Trials', max=85.0, style=ProgressStyle(description_width=…"
            ]
          },
          "metadata": {
            "tags": []
          }
        },
        {
          "output_type": "stream",
          "text": [
            "\n"
          ],
          "name": "stdout"
        }
      ]
    },
    {
      "cell_type": "code",
      "metadata": {
        "colab": {
          "base_uri": "https://localhost:8080/"
        },
        "id": "bwM8vaGydqep",
        "outputId": "59289058-e16b-4263-aa21-7abe55627668"
      },
      "source": [
        "epoch_labels_binary_train.shape"
      ],
      "execution_count": null,
      "outputs": [
        {
          "output_type": "execute_result",
          "data": {
            "text/plain": [
              "(15300,)"
            ]
          },
          "metadata": {
            "tags": []
          },
          "execution_count": 9
        }
      ]
    },
    {
      "cell_type": "code",
      "metadata": {
        "colab": {
          "base_uri": "https://localhost:8080/"
        },
        "id": "Kx5yrfqhXCu_",
        "outputId": "10d3706c-db90-4d97-afbd-e426ee2f6e40"
      },
      "source": [
        "epochs_train.shape\n"
      ],
      "execution_count": null,
      "outputs": [
        {
          "output_type": "execute_result",
          "data": {
            "text/plain": [
              "(15300, 240, 64)"
            ]
          },
          "metadata": {
            "tags": []
          },
          "execution_count": 9
        }
      ]
    },
    {
      "cell_type": "code",
      "metadata": {
        "colab": {
          "base_uri": "https://localhost:8080/",
          "height": 336
        },
        "id": "g_GZPyszE7im",
        "outputId": "51d8118f-3aa4-40bb-c0ea-db7178ef5d92"
      },
      "source": [
        "# Prepare figure\n",
        "plt.figure(figsize=(16,6))\n",
        "plt.subplot(1,2,1)\n",
        "plt.plot(averagePositiveEpoch[:,1:4])\n",
        "# Set up labels and titles\n",
        "plt.title('Average Positive Epoch')\n",
        "plt.xticks([0, 72, 140, 216], ['0', '300', '600', '900'], rotation = 0)\n",
        "plt.xlabel('Time (ms)')\n",
        "plt.ylabel('EEG Signal')\n",
        "\n",
        "plt.subplot(1,2,2)\n",
        "plt.plot(averageNegativeEpoch)\n",
        "# Set up labels and titles\n",
        "plt.title('Average Negative Epoch')\n",
        "plt.xticks([0, 72, 140, 216], ['0', '300', '600', '900'], rotation = 0)\n",
        "plt.xlabel('Time (ms)')"
      ],
      "execution_count": null,
      "outputs": [
        {
          "output_type": "execute_result",
          "data": {
            "text/plain": [
              "Text(0.5, 0, 'Time (ms)')"
            ]
          },
          "metadata": {
            "tags": []
          },
          "execution_count": 10
        },
        {
          "output_type": "display_data",
          "data": {
            "image/png": "[encoded data removed]",
            "text/plain": [
              "<Figure size 1152x432 with 2 Axes>"
            ]
          },
          "metadata": {
            "tags": [],
            "needs_background": "light"
          }
        }
      ]
    },
    {
      "cell_type": "code",
      "metadata": {
        "colab": {
          "base_uri": "https://localhost:8080/",
          "height": 422
        },
        "id": "XaX9lrz3Fkq-",
        "outputId": "e0aba94f-3f68-4c03-9c5e-daf6470cf0f6"
      },
      "source": [
        "grandPositiveAverage = np.mean(averagePositiveEpoch, axis = 1)\n",
        "grandNegativeAverage = np.mean(averageNegativeEpoch, axis = 1)\n",
        "\n",
        "plt.figure(figsize=(8,6))\n",
        "plt.plot(grandPositiveAverage)\n",
        "plt.plot(grandNegativeAverage)\n",
        "plt.ylim(min(grandPositiveAverage) - 0.2 if min(grandPositiveAverage) < min(grandNegativeAverage) else min(grandNegativeAverage) - 0.2,\n",
        "         max(grandPositiveAverage) + 0.2 if max(grandPositiveAverage) > max(grandNegativeAverage) else max(grandNegativeAverage) + 0.2)\n",
        "plt.title('Average P300 and no-P300 Epochs')\n",
        "plt.ylabel('EEG Signal')\n",
        "plt.xlabel('Time (ms)')\n",
        "plt.xticks([0, 72, 140, 216], ['0', '300' ,'600','900'], rotation=0)\n",
        "plt.legend(['P300','No-P300'])\n"
      ],
      "execution_count": null,
      "outputs": [
        {
          "output_type": "execute_result",
          "data": {
            "text/plain": [
              "<matplotlib.legend.Legend at 0x7ffa400e4668>"
            ]
          },
          "metadata": {
            "tags": []
          },
          "execution_count": 11
        },
        {
          "output_type": "display_data",
          "data": {
            "image/png": "[encoded data removed]",
            "text/plain": [
              "<Figure size 576x432 with 1 Axes>"
            ]
          },
          "metadata": {
            "tags": [],
            "needs_background": "light"
          }
        }
      ]
    },
    {
      "cell_type": "code",
      "metadata": {
        "id": "UuTfuyIAEZsm"
      },
      "source": [
        "from sklearn.preprocessing import MinMaxScaler   # use the min max scaler between [-1,1] for PCA\n",
        "from sklearn.decomposition import PCA\n",
        "#dataset = []\n",
        "epoch_norm_train = []\n",
        "\n",
        "\n",
        "for i in range(64) :\n",
        "  dataset = epochs_train[:,:,i] \n",
        "  \n",
        "\n",
        "  # Apply min max scaler\n",
        "  mm_scaler =  MinMaxScaler(copy=False,feature_range=(-1, 1))   \n",
        "  epoch_norm_train.append(mm_scaler.fit_transform(dataset))\n",
        "  \n",
        "\n",
        "epoch_norm_train = np.array(epoch_norm_train) \n",
        "\n",
        "\n",
        "# Dataset after standardisation\n",
        "epoch_fin_train = []\n",
        "\n",
        "for i in range(64):\n",
        "  a = epoch_norm_train[i].transpose()\n",
        "  epoch_fin_train.append(a)\n",
        "\n",
        "epoch_fin_train = np.array(epoch_fin_train)\n",
        "epoch_fin_train = epoch_fin_train.transpose() \n",
        "\n"
      ],
      "execution_count": null,
      "outputs": []
    },
    {
      "cell_type": "code",
      "metadata": {
        "colab": {
          "base_uri": "https://localhost:8080/"
        },
        "id": "loRE42swef8D",
        "outputId": "5ba8c0fb-b1bb-46cc-f38a-9a36d98e217e"
      },
      "source": [
        "epoch_fin_train.shape"
      ],
      "execution_count": null,
      "outputs": [
        {
          "output_type": "execute_result",
          "data": {
            "text/plain": [
              "(15300, 240, 64)"
            ]
          },
          "metadata": {
            "tags": []
          },
          "execution_count": 20
        }
      ]
    },
    {
      "cell_type": "code",
      "metadata": {
        "colab": {
          "base_uri": "https://localhost:8080/"
        },
        "id": "I6xDfeFfdKFB",
        "outputId": "6571481d-ba9a-44d5-84a0-806e11aac10d"
      },
      "source": [
        "epoch_labels_binary_train.shape\n"
      ],
      "execution_count": null,
      "outputs": [
        {
          "output_type": "execute_result",
          "data": {
            "text/plain": [
              "(15300,)"
            ]
          },
          "metadata": {
            "tags": []
          },
          "execution_count": 14
        }
      ]
    },
    {
      "cell_type": "code",
      "metadata": {
        "colab": {
          "base_uri": "https://localhost:8080/"
        },
        "id": "B6BjBVWkHCgS",
        "outputId": "5eb8bbe9-0393-4cd6-a6af-ae2ec09b48b5"
      },
      "source": [
        "          # Init 3D array to store EEG epochs\n",
        "epochDuration = int(SAMPLING_FREQUENCY/1000*1000)  # Duration of th epoch is 1000 ms\n",
        " # Init 3D array to store the target\n",
        "stimulus_code_train=[]\n",
        "averagePositiveEpochnorm = [[0 for i in range(len(CHANNELS))] for i in range(epochDuration)] # Init average array to 0\n",
        "averageNegativeEpochnorm = [[0 for i in range(len(CHANNELS))] for i in range(epochDuration)] # Init average array to 0 \n",
        "\n",
        "positiveEpochsnorm = 0 # Counter for positive epochs (P300)\n",
        "negativeEpochsnorm = 0 # Counter for negative epochs (no-P300)\n",
        "\n",
        "for i in range(15300):  \n",
        "  \n",
        "  if (epoch_labels_binary_train[i] == 1):\n",
        "    averagePositiveEpochnorm = averagePositiveEpochnorm + epoch_fin_train[i,:,:]\n",
        "    positiveEpochsnorm = positiveEpochsnorm + 1\n",
        "  else:\n",
        "    averageNegativeEpochnorm = averageNegativeEpochnorm + epoch_fin_train[i,:,:]\n",
        "    egativeEpochs = negativeEpochs + 1\n",
        "            \n",
        "        \n",
        "# Compute average\n",
        "averagePositiveEpochnorm = averagePositiveEpochnorm/positiveEpochsnorm\n",
        "averageNegativeEpochnorm = averageNegativeEpochnorm/negativeEpochsnorm \n",
        "epochs_train = np.array(epochs_train)\n"
      ],
      "execution_count": null,
      "outputs": [
        {
          "output_type": "stream",
          "text": [
            "/usr/local/lib/python3.6/dist-packages/ipykernel_launcher.py:23: RuntimeWarning: divide by zero encountered in true_divide\n"
          ],
          "name": "stderr"
        }
      ]
    },
    {
      "cell_type": "code",
      "metadata": {
        "colab": {
          "base_uri": "https://localhost:8080/"
        },
        "id": "IXfszLTkSHqn",
        "outputId": "67319986-d58c-4fd1-f953-66880fdb14c5"
      },
      "source": [
        "averageNegativeEpoch.shape"
      ],
      "execution_count": null,
      "outputs": [
        {
          "output_type": "execute_result",
          "data": {
            "text/plain": [
              "(240, 64)"
            ]
          },
          "metadata": {
            "tags": []
          },
          "execution_count": 13
        }
      ]
    },
    {
      "cell_type": "code",
      "metadata": {
        "colab": {
          "base_uri": "https://localhost:8080/"
        },
        "id": "Ql5wZ0djSLFp",
        "outputId": "2b878b5a-9fd7-4898-efc5-3a94d51c56f7"
      },
      "source": [
        "averagePositiveEpoch"
      ],
      "execution_count": null,
      "outputs": [
        {
          "output_type": "execute_result",
          "data": {
            "text/plain": [
              "array([[-0.02598851,  0.28410227,  0.27549933, ..., -0.26930003,\n",
              "         0.18037543, -0.07012227],\n",
              "       [-0.02627487,  0.29296749,  0.29706254, ..., -0.28011606,\n",
              "         0.14390976, -0.07373537],\n",
              "       [-0.02685892,  0.30102118,  0.31770204, ..., -0.29081324,\n",
              "         0.10802859, -0.07719281],\n",
              "       ...,\n",
              "       [-0.07635934, -0.00670764, -0.03065534, ..., -0.17813155,\n",
              "        -0.08917511, -0.11447211],\n",
              "       [-0.06848096, -0.00453638, -0.02541204, ..., -0.16190798,\n",
              "        -0.08198605, -0.10370628],\n",
              "       [-0.06099236, -0.0027643 , -0.02083307, ..., -0.14608788,\n",
              "        -0.07481784, -0.09325213]])"
            ]
          },
          "metadata": {
            "tags": []
          },
          "execution_count": 14
        }
      ]
    },
    {
      "cell_type": "code",
      "metadata": {
        "colab": {
          "base_uri": "https://localhost:8080/",
          "height": 331
        },
        "id": "iaFBMrVIGqS1",
        "outputId": "42ac2ecb-64ca-41e6-ccc5-000d966578b2"
      },
      "source": [
        "# Prepare figure\n",
        "plt.figure(figsize=(16,6))\n",
        "plt.subplot(1,2,1)\n",
        "plt.plot(averagePositiveEpochnorm[:,1:4])\n",
        "# Set up labels and titles\n",
        "plt.title('Average Positive Epoch')\n",
        "plt.xticks([0, 72, 140, 216], ['0', '300', '600', '900'], rotation = 0)\n",
        "plt.xlabel('Time (ms)')\n",
        "plt.ylabel('EEG Signal')\n",
        "\n",
        "plt.subplot(1,2,2)\n",
        "plt.plot(averageNegativeEpochnorm[:,1:4])\n",
        "# Set up labels and titles\n",
        "plt.title('Average Negative Epoch')\n",
        "plt.xticks([0, 72, 140, 216], ['0', '300', '600', '900'], rotation = 0)\n",
        "plt.xlabel('Time (ms)')"
      ],
      "execution_count": null,
      "outputs": [
        {
          "output_type": "execute_result",
          "data": {
            "text/plain": [
              "Text(0.5, 0, 'Time (ms)')"
            ]
          },
          "metadata": {
            "tags": []
          },
          "execution_count": 18
        },
        {
          "output_type": "display_data",
          "data": {
            "image/png": "[encoded data removed]",
            "text/plain": [
              "<Figure size 1152x432 with 2 Axes>"
            ]
          },
          "metadata": {
            "tags": [],
            "needs_background": "light"
          }
        }
      ]
    },
    {
      "cell_type": "code",
      "metadata": {
        "colab": {
          "base_uri": "https://localhost:8080/",
          "height": 849
        },
        "id": "61jVmYqbajic",
        "outputId": "1c3cad68-f5a4-4c20-d699-b021ef55c053"
      },
      "source": [
        "grandPositiveAverage = np.mean(averagePositiveEpochnorm, axis = 1)\n",
        "grandNegativeAverage = np.mean(averageNegativeEpochnorm, axis = 1)\n",
        "\n",
        "plt.figure(figsize=(8,6))\n",
        "plt.plot(grandPositiveAverage)\n",
        "plt.plot(grandNegativeAverage)\n",
        "plt.ylim(min(grandPositiveAverage) - 0.2 if min(grandPositiveAverage) < min(grandNegativeAverage) else min(grandNegativeAverage) - 0.2,\n",
        "         max(grandPositiveAverage) + 0.2 if max(grandPositiveAverage) > max(grandNegativeAverage) else max(grandNegativeAverage) + 0.2)\n",
        "plt.title('Average P300 and no-P300 Epochs')\n",
        "plt.ylabel('EEG Signal')\n",
        "plt.xlabel('Time (ms)')\n",
        "plt.xticks([0, 72, 140, 216], ['0', '300' ,'600','900'], rotation=0)\n",
        "plt.legend(['P300','No-P300'])\n"
      ],
      "execution_count": null,
      "outputs": [
        {
          "output_type": "stream",
          "text": [
            "/usr/local/lib/python3.6/dist-packages/numpy/core/_methods.py:151: RuntimeWarning: invalid value encountered in reduce\n",
            "  ret = umr_sum(arr, axis, dtype, out, keepdims)\n"
          ],
          "name": "stderr"
        },
        {
          "output_type": "error",
          "ename": "ValueError",
          "evalue": "ignored",
          "traceback": [
            "\u001b[0;31m---------------------------------------------------------------------------\u001b[0m",
            "\u001b[0;31mValueError\u001b[0m                                Traceback (most recent call last)",
            "\u001b[0;32m<ipython-input-21-91123bfe0e10>\u001b[0m in \u001b[0;36m<module>\u001b[0;34m()\u001b[0m\n\u001b[1;32m      6\u001b[0m \u001b[0mplt\u001b[0m\u001b[0;34m.\u001b[0m\u001b[0mplot\u001b[0m\u001b[0;34m(\u001b[0m\u001b[0mgrandNegativeAverage\u001b[0m\u001b[0;34m)\u001b[0m\u001b[0;34m\u001b[0m\u001b[0;34m\u001b[0m\u001b[0m\n\u001b[1;32m      7\u001b[0m plt.ylim(min(grandPositiveAverage) - 0.2 if min(grandPositiveAverage) < min(grandNegativeAverage) else min(grandNegativeAverage) - 0.2,\n\u001b[0;32m----> 8\u001b[0;31m          max(grandPositiveAverage) + 0.2 if max(grandPositiveAverage) > max(grandNegativeAverage) else max(grandNegativeAverage) + 0.2)\n\u001b[0m\u001b[1;32m      9\u001b[0m \u001b[0mplt\u001b[0m\u001b[0;34m.\u001b[0m\u001b[0mtitle\u001b[0m\u001b[0;34m(\u001b[0m\u001b[0;34m'Average P300 and no-P300 Epochs'\u001b[0m\u001b[0;34m)\u001b[0m\u001b[0;34m\u001b[0m\u001b[0;34m\u001b[0m\u001b[0m\n\u001b[1;32m     10\u001b[0m \u001b[0mplt\u001b[0m\u001b[0;34m.\u001b[0m\u001b[0mylabel\u001b[0m\u001b[0;34m(\u001b[0m\u001b[0;34m'EEG Signal'\u001b[0m\u001b[0;34m)\u001b[0m\u001b[0;34m\u001b[0m\u001b[0;34m\u001b[0m\u001b[0m\n",
            "\u001b[0;32m/usr/local/lib/python3.6/dist-packages/matplotlib/pyplot.py\u001b[0m in \u001b[0;36mylim\u001b[0;34m(*args, **kwargs)\u001b[0m\n\u001b[1;32m   1431\u001b[0m     \u001b[0;32mif\u001b[0m \u001b[0;32mnot\u001b[0m \u001b[0margs\u001b[0m \u001b[0;32mand\u001b[0m \u001b[0;32mnot\u001b[0m \u001b[0mkwargs\u001b[0m\u001b[0;34m:\u001b[0m\u001b[0;34m\u001b[0m\u001b[0;34m\u001b[0m\u001b[0m\n\u001b[1;32m   1432\u001b[0m         \u001b[0;32mreturn\u001b[0m \u001b[0max\u001b[0m\u001b[0;34m.\u001b[0m\u001b[0mget_ylim\u001b[0m\u001b[0;34m(\u001b[0m\u001b[0;34m)\u001b[0m\u001b[0;34m\u001b[0m\u001b[0;34m\u001b[0m\u001b[0m\n\u001b[0;32m-> 1433\u001b[0;31m     \u001b[0mret\u001b[0m \u001b[0;34m=\u001b[0m \u001b[0max\u001b[0m\u001b[0;34m.\u001b[0m\u001b[0mset_ylim\u001b[0m\u001b[0;34m(\u001b[0m\u001b[0;34m*\u001b[0m\u001b[0margs\u001b[0m\u001b[0;34m,\u001b[0m \u001b[0;34m**\u001b[0m\u001b[0mkwargs\u001b[0m\u001b[0;34m)\u001b[0m\u001b[0;34m\u001b[0m\u001b[0;34m\u001b[0m\u001b[0m\n\u001b[0m\u001b[1;32m   1434\u001b[0m     \u001b[0;32mreturn\u001b[0m \u001b[0mret\u001b[0m\u001b[0;34m\u001b[0m\u001b[0;34m\u001b[0m\u001b[0m\n\u001b[1;32m   1435\u001b[0m \u001b[0;34m\u001b[0m\u001b[0m\n",
            "\u001b[0;32m/usr/local/lib/python3.6/dist-packages/matplotlib/axes/_base.py\u001b[0m in \u001b[0;36mset_ylim\u001b[0;34m(self, bottom, top, emit, auto, ymin, ymax)\u001b[0m\n\u001b[1;32m   3575\u001b[0m \u001b[0;34m\u001b[0m\u001b[0m\n\u001b[1;32m   3576\u001b[0m         \u001b[0mself\u001b[0m\u001b[0;34m.\u001b[0m\u001b[0m_process_unit_info\u001b[0m\u001b[0;34m(\u001b[0m\u001b[0mydata\u001b[0m\u001b[0;34m=\u001b[0m\u001b[0;34m(\u001b[0m\u001b[0mbottom\u001b[0m\u001b[0;34m,\u001b[0m \u001b[0mtop\u001b[0m\u001b[0;34m)\u001b[0m\u001b[0;34m)\u001b[0m\u001b[0;34m\u001b[0m\u001b[0;34m\u001b[0m\u001b[0m\n\u001b[0;32m-> 3577\u001b[0;31m         \u001b[0mbottom\u001b[0m \u001b[0;34m=\u001b[0m \u001b[0mself\u001b[0m\u001b[0;34m.\u001b[0m\u001b[0m_validate_converted_limits\u001b[0m\u001b[0;34m(\u001b[0m\u001b[0mbottom\u001b[0m\u001b[0;34m,\u001b[0m \u001b[0mself\u001b[0m\u001b[0;34m.\u001b[0m\u001b[0mconvert_yunits\u001b[0m\u001b[0;34m)\u001b[0m\u001b[0;34m\u001b[0m\u001b[0;34m\u001b[0m\u001b[0m\n\u001b[0m\u001b[1;32m   3578\u001b[0m         \u001b[0mtop\u001b[0m \u001b[0;34m=\u001b[0m \u001b[0mself\u001b[0m\u001b[0;34m.\u001b[0m\u001b[0m_validate_converted_limits\u001b[0m\u001b[0;34m(\u001b[0m\u001b[0mtop\u001b[0m\u001b[0;34m,\u001b[0m \u001b[0mself\u001b[0m\u001b[0;34m.\u001b[0m\u001b[0mconvert_yunits\u001b[0m\u001b[0;34m)\u001b[0m\u001b[0;34m\u001b[0m\u001b[0;34m\u001b[0m\u001b[0m\n\u001b[1;32m   3579\u001b[0m \u001b[0;34m\u001b[0m\u001b[0m\n",
            "\u001b[0;32m/usr/local/lib/python3.6/dist-packages/matplotlib/axes/_base.py\u001b[0m in \u001b[0;36m_validate_converted_limits\u001b[0;34m(self, limit, convert)\u001b[0m\n\u001b[1;32m   3099\u001b[0m             if (isinstance(converted_limit, Real)\n\u001b[1;32m   3100\u001b[0m                     and not np.isfinite(converted_limit)):\n\u001b[0;32m-> 3101\u001b[0;31m                 \u001b[0;32mraise\u001b[0m \u001b[0mValueError\u001b[0m\u001b[0;34m(\u001b[0m\u001b[0;34m\"Axis limits cannot be NaN or Inf\"\u001b[0m\u001b[0;34m)\u001b[0m\u001b[0;34m\u001b[0m\u001b[0;34m\u001b[0m\u001b[0m\n\u001b[0m\u001b[1;32m   3102\u001b[0m             \u001b[0;32mreturn\u001b[0m \u001b[0mconverted_limit\u001b[0m\u001b[0;34m\u001b[0m\u001b[0;34m\u001b[0m\u001b[0m\n\u001b[1;32m   3103\u001b[0m \u001b[0;34m\u001b[0m\u001b[0m\n",
            "\u001b[0;31mValueError\u001b[0m: Axis limits cannot be NaN or Inf"
          ]
        },
        {
          "output_type": "display_data",
          "data": {
            "image/png": "[encoded data removed]",
            "text/plain": [
              "<Figure size 576x432 with 1 Axes>"
            ]
          },
          "metadata": {
            "tags": [],
            "needs_background": "light"
          }
        }
      ]
    },
    {
      "cell_type": "markdown",
      "metadata": {
        "id": "WyKrD5WVFmWB"
      },
      "source": [
        "## Epochs test subject A"
      ]
    },
    {
      "cell_type": "code",
      "metadata": {
        "id": "Mufq8zl55UBt",
        "colab": {
          "base_uri": "https://localhost:8080/",
          "height": 137,
          "referenced_widgets": [
            "b631ac9a76ee481887a94ce6bf0bace8",
            "e0df5716cd35485289460686d17c948a",
            "bd7d501c0c6a47439ddaaa5ea380227b",
            "fcc55ad02b204349ad0547f5b00df00b",
            "3935b48256644ae4926a43ee1fb25eca",
            "5fc23d234ef240cbae205147e2033722",
            "159d675e49a948f7a1e30773ac2d080a",
            "8e314e64c9944141a5763ca6ec7a70d3"
          ]
        },
        "outputId": "e5ac2ed4-6be4-417e-d333-399cc57272b2"
      },
      "source": [
        "epochs_test = []              # Init 3D array to store EEG epochs\n",
        "epochDuration = int(SAMPLING_FREQUENCY/1000*1000)  # Duration of th epoch is 1000 ms\n",
        "epoch_labels_binary_test = [] # Init 3D array to store the target\n",
        "stimulus_code_test=[]\n",
        "averagePositiveEpoch = [[0 for i in range(len(CHANNELS))] for i in range(epochDuration)] # Init average array to 0\n",
        "averageNegativeEpoch = [[0 for i in range(len(CHANNELS))] for i in range(epochDuration)] # Init average array to 0 \n",
        "\n",
        "positiveEpochs = 0 # Counter for positive epochs (P300)\n",
        "negativeEpochs = 0 # Counter for negative epochs (no-P300)\n",
        "\n",
        "# Let's prepare our butterworth filter\n",
        "b,a = signal.butter(4, [0.1/SAMPLING_FREQUENCY/2, 20/SAMPLING_FREQUENCY/2], 'bandpass')\n",
        "P300=1\n",
        "NP300=0\n",
        "\n",
        "# For loop over all the trials\n",
        "for trial in tqdm(range(TRIALS_TEST),desc='Trials'):\n",
        "  for sample in range(SAMPLES_PER_TRIAL_TEST):\n",
        "    \n",
        "    # Check if flashing changed from 0 or 1 or if it's the first sample (always 1)\n",
        "    if ( sample == 0 or (flashing_test[trial, sample-1] == 0 and flashing_test[trial, sample] == 1)):\n",
        "      \n",
        "      # We have an epoch to extract\n",
        "      lower_sample = sample\n",
        "      upper_sample = sample + epochDuration\n",
        "      epoch = signals_test[trial, int(lower_sample):int(upper_sample), :]\n",
        "      epoch = signal.filtfilt(b, a, epoch, axis = 0)\n",
        "      epochs_test.append(epoch)\n",
        "      stimulus_code_test.append(data_test['StimulusCode'][trial][sample])\n",
        "\n",
        "epochs_test = np.array(epochs_test)\n",
        "stimulus_code_test = np.array(stimulus_code_test)\n",
        "\n",
        "# To save the target of the test dataset (checking for every epoch of each char_test the stimulus code)\n",
        "for trial in range(TRIALS_TEST):\n",
        "  if chars_test[trial] == 'A'or chars_test[trial] =='B' or chars_test[trial] =='C' or chars_test[trial] =='D' or chars_test[trial] =='E' or chars_test[trial] =='F':\n",
        "    row_code = 7\n",
        "  elif chars_test[trial]=='G' or chars_test[trial] =='H' or chars_test[trial] =='I' or chars_test[trial] == 'J'or chars_test[trial] =='K' or chars_test[trial] == 'L':\n",
        "    row_code = 8\n",
        "  elif chars_test[trial]=='M' or chars_test[trial] =='N' or chars_test[trial] =='O' or chars_test[trial] =='P' or chars_test[trial] =='Q' or chars_test[trial] =='R':\n",
        "    row_code = 9\n",
        "  elif chars_test[trial]==  'S' or chars_test[trial] =='T' or chars_test[trial] == 'U' or chars_test[trial] =='V' or chars_test[trial] =='W' or chars_test[trial] =='X':\n",
        "    row_code = 10\n",
        "  elif chars_test[trial]== 'Y' or chars_test[trial] == 'Z' or chars_test[trial] == '1' or chars_test[trial] =='2' or chars_test[trial] =='3' or chars_test[trial] =='4':\n",
        "    row_code = 11\n",
        "  else:\n",
        "    row_code = 12\n",
        "  if chars_test[trial] == 'A'or chars_test[trial] ==  'G' or chars_test[trial] ==  'M'  or chars_test[trial]=='S' or chars_test[trial] == 'Y' or chars_test[trial]=='5':\n",
        "    column_code = 1\n",
        "  elif chars_test[trial]=='B' or  chars_test[trial] == 'H' or chars_test[trial] == 'N' or chars_test[trial] == 'T'or chars_test[trial] == 'Z' or  chars_test[trial] == '6':\n",
        "    column_code = 2\n",
        "  elif chars_test[trial]=='C' or chars_test[trial] =='I' or chars_test[trial] == 'O' or chars_test[trial] == 'U' or chars_test[trial] == '1' or chars_test[trial] == '7':\n",
        "    column_code = 3\n",
        "  elif chars_test[trial]==  'D' or chars_test[trial] == 'J' or chars_test[trial] =='P' or chars_test[trial] =='V' or chars_test[trial] =='2' or chars_test[trial] == '8':\n",
        "    column_code = 4\n",
        "  elif chars_test[trial]== 'E' or chars_test[trial] =='K' or chars_test[trial] =='Q' or chars_test[trial] =='W' or chars_test[trial] == '3' or chars_test[trial] =='9':\n",
        "    column_code = 5\n",
        "  else: \n",
        "    column_code = 6\n",
        "    \n",
        "  for i in range(180*trial,180*(trial+1)):\n",
        "    if stimulus_code_test[i]== row_code or stimulus_code_test[i]== column_code:\n",
        "      epoch_labels_binary_test.append(1)\n",
        "    else:\n",
        "      epoch_labels_binary_test.append(0)\n",
        "\n",
        "epoch_labels_binary_test = np.array(epoch_labels_binary_test)     \n",
        "\n",
        "print('shape epochs train:',epochs_train.shape)\n",
        "print('shape epochs test:',epochs_test.shape)\n",
        "print('shape epochs labels train',epoch_labels_binary_train.shape)\n",
        "print('shape epochs labels test',epoch_labels_binary_test.shape)"
      ],
      "execution_count": null,
      "outputs": [
        {
          "output_type": "display_data",
          "data": {
            "application/vnd.jupyter.widget-view+json": {
              "model_id": "b631ac9a76ee481887a94ce6bf0bace8",
              "version_minor": 0,
              "version_major": 2
            },
            "text/plain": [
              "HBox(children=(FloatProgress(value=0.0, description='Trials', style=ProgressStyle(description_width='initial')…"
            ]
          },
          "metadata": {
            "tags": []
          }
        },
        {
          "output_type": "stream",
          "text": [
            "\n",
            "shape epochs train: (15300, 240, 64)\n",
            "shape epochs test: (18000, 240, 64)\n",
            "shape epochs labels train (15300,)\n",
            "shape epochs labels test (18000,)\n"
          ],
          "name": "stdout"
        }
      ]
    },
    {
      "cell_type": "code",
      "metadata": {
        "id": "0i3xU3EJLDhS"
      },
      "source": [
        "import h5py\n",
        "hf = h5py.File('/content/drive/MyDrive/A_norm.h5', 'w')\n",
        "hf.create_dataset('dataset_epoch_train', data=epochs_train) \n",
        "hf.create_dataset('dataset_epoch_labels_train', data=epochs_test)\n",
        "hf.close()"
      ],
      "execution_count": null,
      "outputs": []
    },
    {
      "cell_type": "code",
      "metadata": {
        "id": "-7QC_KAILDpw"
      },
      "source": [
        ""
      ],
      "execution_count": null,
      "outputs": []
    },
    {
      "cell_type": "markdown",
      "metadata": {
        "id": "3x6CzlLRI8KP"
      },
      "source": [
        "#Downsampling\n",
        "Here are the trials we did to downsample data: we saved the datasets already normalized and downsampled without the necessity to run the code (which we leave here commented)\n"
      ]
    },
    {
      "cell_type": "code",
      "metadata": {
        "id": "fCml9lhcIlFp",
        "colab": {
          "base_uri": "https://localhost:8080/",
          "height": 52
        },
        "outputId": "faa82b1d-62c2-41ce-b020-9655f570a55c"
      },
      "source": [
        "'''\n",
        "# FIR FILTER WITH 120 FEATURES\n",
        "\n",
        "epochs_train_downsampling = signal.decimate(epochs_train,2,axis=1, ftype='fir', n=40)\n",
        "epochs_test_downsampling = signal.decimate(epochs_test,2,axis=1, ftype='fir', n=40)\n",
        "\n",
        "# FIR FILTER WITH 10 FEATURES\n",
        "epochs_train_downsampling = signal.decimate(epochs_train,24,axis=1, ftype='fir', n=40)\n",
        "epochs_test_downsampling = signal.decimate(epochs_test,24,axis=1, ftype='fir', n=40)\n",
        "'''"
      ],
      "execution_count": null,
      "outputs": [
        {
          "output_type": "execute_result",
          "data": {
            "application/vnd.google.colaboratory.intrinsic+json": {
              "type": "string"
            },
            "text/plain": [
              "\"\\n# FIR FILTER WITH 10 FEATURES\\nepochs_train_downsampling = signal.decimate(epochs_train,24,axis=1, ftype='fir', n=40)\\nepochs_test_downsampling = signal.decimate(epochs_test,24,axis=1, ftype='fir', n=40)\\n\""
            ]
          },
          "metadata": {
            "tags": []
          },
          "execution_count": 11
        }
      ]
    },
    {
      "cell_type": "code",
      "metadata": {
        "id": "n2QI0_62yu_w"
      },
      "source": [
        "# SAVE DATA FROM DOWNSAMPLING WITH 120 FEATURES\n",
        "\n",
        "'''\n",
        "hf = h5py.File('/content/drive/MyDrive/workshop_neuro/dataset_ds_non_normalize/train_A_DOWNSAMPLING_FIR_120.h5', 'w')\n",
        "hf.create_dataset('dataset_epoch_train', data=epochs_train_downsampling) \n",
        "hf.create_dataset('dataset_epoch_labels_train', data=epoch_labels_binary_train)\n",
        "hf.close()\n",
        "\n",
        "hf1 = h5py.File('/content/drive/MyDrive/workshop_neuro/dataset_ds_non_normalize/test_A_DOWNSAMPLING_FIR_120.h5', 'w')\n",
        "hf1.create_dataset('dataset_epoch_test', data=epochs_test_downsampling) \n",
        "hf1.create_dataset('dataset_epoch_labels_test', data=epoch_labels_binary_test)\n",
        "hf1.close()\n",
        "'''"
      ],
      "execution_count": null,
      "outputs": []
    },
    {
      "cell_type": "code",
      "metadata": {
        "id": "7Gz9m7umuRnQ"
      },
      "source": [
        "# SAVE DATA FROM DOWNSAMPLING WITH 10 FEATURES\n",
        "\n",
        "'''\n",
        "hf = h5py.File('/content/drive/MyDrive/workshop_neuro/dataset_ds_non_normalize/train_A_DOWNSAMPLING_FIR_10.h5', 'w')\n",
        "hf.create_dataset('dataset_epoch_train', data=epochs_train_downsampling) \n",
        "hf.create_dataset('dataset_epoch_labels_train', data=epoch_labels_binary_train)\n",
        "hf.close()\n",
        "\n",
        "hf1 = h5py.File('/content/drive/MyDrive/workshop_neuro/dataset_ds_non_normalize/test_A_DOWNSAMPLING_FIR_10.h5', 'w')\n",
        "hf1.create_dataset('dataset_epoch_test', data=epochs_test_downsampling) \n",
        "hf1.create_dataset('dataset_epoch_labels_test', data=epoch_labels_binary_test)\n",
        "hf1.close()\n",
        "'''"
      ],
      "execution_count": null,
      "outputs": []
    },
    {
      "cell_type": "markdown",
      "metadata": {
        "id": "HtxqMlae1y2e"
      },
      "source": [
        "##Normalization for downsampling\n",
        "\n",
        "\n"
      ]
    },
    {
      "cell_type": "code",
      "metadata": {
        "id": "OZfmSRf3yG7v"
      },
      "source": [
        "# Standardization for each epoch on channels (do the same for FIR 120)\n",
        "'''\n",
        "from sklearn.preprocessing import MinMaxScaler \n",
        "import h5py\n",
        "\n",
        "hf = h5py.File('/content/drive/MyDrive/workshop_neuro/dataset_ds_non_normalize/train_A_DOWNSAMPLING_FIR_10.h5', 'r')\n",
        "hf1 = h5py.File('/content/drive/MyDrive/workshop_neuro/dataset_ds_non_normalize/test_A_DS_FIR_10.h5', 'r')\n",
        "\n",
        "epoch_train_downsampling = hf.get('dataset_epoch_train')\n",
        "epoch_labels_binary_train = hf.get('dataset_epoch_labels_train')\n",
        "\n",
        "epoch_test_downsampling = hf1.get('dataset_epoch_test')\n",
        "epoch_labels_binary_test = hf1.get('dataset_epoch_labels_test')\n",
        "\n",
        "epoch_train_downsampling =np.array(epoch_train_downsampling)\n",
        "epoch_labels_binary_train =np.array(epoch_labels_binary_train)\n",
        "epoch_test_downsampling =np.array(epoch_test_downsampling)\n",
        "epoch_labels_binary_test =np.array(epoch_labels_binary_test)\n",
        "\n",
        "epoch_norm_train = []\n",
        "epoch_norm_test = []\n",
        "\n",
        "for i in range(64) :\n",
        "  dataset = epoch_train_downsampling[:,:,i] \n",
        "  dataset_test = epoch_test_downsampling[:,:,i] \n",
        "\n",
        "  # Apply min max scaler\n",
        "  mm_scaler =  MinMaxScaler(copy=False,feature_range=(-1, 1))   \n",
        "  epoch_norm_train.append(mm_scaler.fit_transform(dataset))\n",
        "  epoch_norm_test.append(mm_scaler.transform(dataset_test))\n",
        "\n",
        "epoch_norm_train = np.array(epoch_norm_train) \n",
        "epoch_norm_test = np.array(epoch_norm_test)\n",
        "\n",
        "# Dataset after standardisation\n",
        "epoch_fin_train = []\n",
        "\n",
        "for i in range(64):\n",
        "  a = epoch_norm_train[i].transpose()\n",
        "  epoch_fin_train.append(a)\n",
        "\n",
        "epoch_fin_train = np.array(epoch_fin_train)\n",
        "epoch_fin_train = epoch_fin_train.transpose() \n",
        "\n",
        "epoch_fin_test = []\n",
        "\n",
        "for i in range(64):\n",
        "  a = epoch_norm_test[i].transpose()\n",
        "  epoch_fin_test.append(a)\n",
        "\n",
        "epoch_fin_test = np.array(epoch_fin_test)\n",
        "epoch_fin_test = epoch_fin_test.transpose()\n",
        "'''"
      ],
      "execution_count": null,
      "outputs": []
    },
    {
      "cell_type": "code",
      "metadata": {
        "id": "uhSezOMGF3x6"
      },
      "source": [
        "# Save data after downsampling and normalization (same for DS 120)\n",
        "'''\n",
        "hf = h5py.File('/content/drive/MyDrive/workshop_neuro/dataset/A/TRAIN/train_A_DSNORM_FIR_10.h5', 'w')\n",
        "hf.create_dataset('dataset_epoch_train', data=epoch_fin_train) \n",
        "hf.create_dataset('dataset_epoch_labels_train', data=epoch_labels_binary_train)\n",
        "hf.close()\n",
        "\n",
        "hf1 = h5py.File('/content/drive/MyDrive/workshop_neuro/dataset/A/TEST/test_A_DSNORM_FIR_10.h5', 'w')\n",
        "hf1.create_dataset('dataset_epoch_test', data=epoch_fin_test) \n",
        "hf1.create_dataset('dataset_epoch_labels_test', data=epoch_labels_binary_test)\n",
        "hf1.close()\n",
        "'''"
      ],
      "execution_count": null,
      "outputs": []
    },
    {
      "cell_type": "code",
      "metadata": {
        "id": "iIo64o4nMbFr",
        "colab": {
          "base_uri": "https://localhost:8080/",
          "height": 220
        },
        "outputId": "092a6908-7422-4500-bfc4-169baf03a9e6"
      },
      "source": [
        "import h5py\n",
        "hf = h5py.File('/content/drive/MyDrive/A_norm.h5', 'w')\n",
        "hf.create_dataset('dataset_epoch_train', data=epochs_train) \n",
        "hf.create_dataset('dataset_epoch_labels_train', data=epochs_test)\n",
        "hf.close()"
      ],
      "execution_count": null,
      "outputs": [
        {
          "output_type": "error",
          "ename": "NameError",
          "evalue": "ignored",
          "traceback": [
            "\u001b[0;31m---------------------------------------------------------------------------\u001b[0m",
            "\u001b[0;31mNameError\u001b[0m                                 Traceback (most recent call last)",
            "\u001b[0;32m<ipython-input-18-16fa58340195>\u001b[0m in \u001b[0;36m<module>\u001b[0;34m()\u001b[0m\n\u001b[1;32m      2\u001b[0m \u001b[0mhf\u001b[0m \u001b[0;34m=\u001b[0m \u001b[0mh5py\u001b[0m\u001b[0;34m.\u001b[0m\u001b[0mFile\u001b[0m\u001b[0;34m(\u001b[0m\u001b[0;34m'/content/drive/MyDrive/A_norm.h5'\u001b[0m\u001b[0;34m,\u001b[0m \u001b[0;34m'w'\u001b[0m\u001b[0;34m)\u001b[0m\u001b[0;34m\u001b[0m\u001b[0;34m\u001b[0m\u001b[0m\n\u001b[1;32m      3\u001b[0m \u001b[0mhf\u001b[0m\u001b[0;34m.\u001b[0m\u001b[0mcreate_dataset\u001b[0m\u001b[0;34m(\u001b[0m\u001b[0;34m'dataset_epoch_train'\u001b[0m\u001b[0;34m,\u001b[0m \u001b[0mdata\u001b[0m\u001b[0;34m=\u001b[0m\u001b[0mepochs_train\u001b[0m\u001b[0;34m)\u001b[0m\u001b[0;34m\u001b[0m\u001b[0;34m\u001b[0m\u001b[0m\n\u001b[0;32m----> 4\u001b[0;31m \u001b[0mhf\u001b[0m\u001b[0;34m.\u001b[0m\u001b[0mcreate_dataset\u001b[0m\u001b[0;34m(\u001b[0m\u001b[0;34m'dataset_epoch_labels_train'\u001b[0m\u001b[0;34m,\u001b[0m \u001b[0mdata\u001b[0m\u001b[0;34m=\u001b[0m\u001b[0mepochs_test\u001b[0m\u001b[0;34m)\u001b[0m\u001b[0;34m\u001b[0m\u001b[0;34m\u001b[0m\u001b[0m\n\u001b[0m\u001b[1;32m      5\u001b[0m \u001b[0mhf\u001b[0m\u001b[0;34m.\u001b[0m\u001b[0mclose\u001b[0m\u001b[0;34m(\u001b[0m\u001b[0;34m)\u001b[0m\u001b[0;34m\u001b[0m\u001b[0;34m\u001b[0m\u001b[0m\n",
            "\u001b[0;31mNameError\u001b[0m: name 'epochs_test' is not defined"
          ]
        }
      ]
    },
    {
      "cell_type": "code",
      "metadata": {
        "id": "Stcz-Ka8MjAL"
      },
      "source": [
        "hf = h5py.File('/content/drive/MyDrive/A_norm.h5', 'r')\n",
        "\n",
        "epoch_fin_train = hf.get('dataset_epoch_train')\n",
        "epoch_fin_test = hf.get('dataset_epoch_labels_train')\n",
        "\n"
      ],
      "execution_count": null,
      "outputs": []
    },
    {
      "cell_type": "code",
      "metadata": {
        "id": "MYHBJzDXM3n-"
      },
      "source": [
        "\n",
        "epoch_fin_train = np.array(epoch_fin_train)\n",
        "epoch_fin_test =np.array(epoch_fin_test)"
      ],
      "execution_count": null,
      "outputs": []
    },
    {
      "cell_type": "code",
      "metadata": {
        "id": "jk-S-Et6JFWO"
      },
      "source": [
        "from sklearn.preprocessing import MinMaxScaler   # use the min max scaler between [-1,1] for PCA\n",
        "from sklearn.decomposition import PCA\n",
        "#dataset = []\n",
        "epoch_norm_train = []\n",
        "epoch_norm_test = []\n",
        "\n",
        "for i in range(64) :\n",
        "  dataset = epoch_fin_train[:,:,i] \n",
        "  dataset_test = epoch_fin_test[:,:,i] \n",
        "\n",
        "  # Apply min max scaler\n",
        "  mm_scaler =  MinMaxScaler(copy=False,feature_range=(-1, 1))   \n",
        "  epoch_norm_train.append(mm_scaler.fit_transform(dataset))\n",
        "  epoch_norm_test.append(mm_scaler.transform(dataset_test))\n",
        "\n",
        "epoch_norm_train = np.array(epoch_norm_train) \n",
        "epoch_norm_test = np.array(epoch_norm_test)\n",
        "\n",
        "# Dataset after standardisation\n",
        "epoch_fin_train = []\n",
        "\n",
        "for i in range(64):\n",
        "  a = epoch_norm_train[i].transpose()\n",
        "  epoch_fin_train.append(a)\n",
        "\n",
        "epoch_fin_train = np.array(epoch_fin_train)\n",
        "epoch_fin_train = epoch_fin_train.transpose() \n",
        "\n",
        "epoch_fin_test = []\n",
        "\n",
        "for i in range(64):\n",
        "  a = epoch_norm_test[i].transpose()\n",
        "  epoch_fin_test.append(a)\n",
        "\n",
        "epoch_fin_test = np.array(epoch_fin_test)\n",
        "epoch_fin_test = epoch_fin_test.transpose()"
      ],
      "execution_count": null,
      "outputs": []
    },
    {
      "cell_type": "code",
      "metadata": {
        "id": "EtfF9HFZItYg"
      },
      "source": [
        "from sklearn.preprocessing import MinMaxScaler   # use the min max scaler between [-1,1] for PCA\n",
        "from sklearn.decomposition import PCA\n",
        "#dataset = []\n",
        "epoch_pca_train = []\n",
        "epoch_pca_test = []\n",
        "dataset_t=[]\n",
        "for i in range(64) :\n",
        "  dataset = epochs_train[:,:,i] \n",
        "  dataset_test = epochs_test[:,:,i]  \n",
        "  # Apply min max scaler\n",
        "  mm_scaler =  MinMaxScaler(copy=False,feature_range=(-1, 1))   \n",
        "  mm_scaler.fit_transform(dataset) \n",
        "  mm_scaler.transform(dataset_test)\n",
        "  dataset_t.append(dataset_test)\n",
        "  #df = pd.DataFrame(dataset_t)"
      ],
      "execution_count": null,
      "outputs": []
    },
    {
      "cell_type": "code",
      "metadata": {
        "id": "nWEkOHLXIwjC"
      },
      "source": [
        "dataset_t=np.array(dataset_t)\n",
        "dataset_t.shape"
      ],
      "execution_count": null,
      "outputs": []
    },
    {
      "cell_type": "code",
      "metadata": {
        "id": "CHxYcEM5Iyxv"
      },
      "source": [
        "epoch_test_mm=[]\n",
        "for i in range(64):\n",
        "  a = dataset_t[i,:,:].transpose()\n",
        "  epoch_test_mm.append(a)\n",
        "epoch_test_mm = np.array(epoch_test_mm)\n",
        "epoch_test_mm = epoch_test_mm.transpose()\n",
        "epoch_test_mm.shape"
      ],
      "execution_count": null,
      "outputs": []
    },
    {
      "cell_type": "code",
      "metadata": {
        "colab": {
          "base_uri": "https://localhost:8080/"
        },
        "id": "TZsbHZk9Nmhh",
        "outputId": "38b4a5c2-b754-46e3-cc92-3d9c2d77096a"
      },
      "source": [
        "epoch_fin_train.shape"
      ],
      "execution_count": null,
      "outputs": [
        {
          "output_type": "execute_result",
          "data": {
            "text/plain": [
              "(15300, 240, 64)"
            ]
          },
          "metadata": {
            "tags": []
          },
          "execution_count": 8
        }
      ]
    },
    {
      "cell_type": "code",
      "metadata": {
        "id": "G5toQbwrNwgG"
      },
      "source": [
        ""
      ],
      "execution_count": null,
      "outputs": []
    },
    {
      "cell_type": "code",
      "metadata": {
        "colab": {
          "base_uri": "https://localhost:8080/",
          "height": 311
        },
        "id": "WFOi7E3pI1X7",
        "outputId": "c582f359-54be-400a-f77b-bfa717142b5f"
      },
      "source": [
        "plt.plot(epoch_fin_test[0,:,0:12])\n",
        "# Set up labels and titles\n",
        "plt.title('Subject A: EEG signals for 1st Epoch and 12 Channels')\n",
        "plt.xticks([0, 72, 140, 216], ['0', '300', '600', '900'], rotation = 0)\n",
        "plt.xlabel('Time (ms)')\n",
        "plt.ylabel('EEG Signal')"
      ],
      "execution_count": null,
      "outputs": [
        {
          "output_type": "execute_result",
          "data": {
            "text/plain": [
              "Text(0, 0.5, 'EEG Signal')"
            ]
          },
          "metadata": {
            "tags": []
          },
          "execution_count": 12
        },
        {
          "output_type": "display_data",
          "data": {
            "image/png": "[encoded data removed]",
            "text/plain": [
              "<Figure size 432x288 with 1 Axes>"
            ]
          },
          "metadata": {
            "tags": [],
            "needs_background": "light"
          }
        }
      ]
    },
    {
      "cell_type": "code",
      "metadata": {
        "colab": {
          "base_uri": "https://localhost:8080/",
          "height": 311
        },
        "id": "2jykLkFFOR4M",
        "outputId": "1f1ff505-2f4b-49e7-c2ed-f434a39085b9"
      },
      "source": [
        "plt.plot(epoch_fin_train[5,:,0])\n",
        "# Set up labels and titles\n",
        "plt.title('Subject A: EEG signals for 1st Epoch and 12 Channels')\n",
        "plt.xticks([0, 72, 140, 216], ['0', '300', '600', '900'], rotation = 0)\n",
        "plt.xlabel('Time (ms)')\n",
        "plt.ylabel('EEG Signal')"
      ],
      "execution_count": null,
      "outputs": [
        {
          "output_type": "execute_result",
          "data": {
            "text/plain": [
              "Text(0, 0.5, 'EEG Signal')"
            ]
          },
          "metadata": {
            "tags": []
          },
          "execution_count": 11
        },
        {
          "output_type": "display_data",
          "data": {
            "image/png": "[encoded data removed]",
            "text/plain": [
              "<Figure size 432x288 with 1 Axes>"
            ]
          },
          "metadata": {
            "tags": [],
            "needs_background": "light"
          }
        }
      ]
    },
    {
      "cell_type": "markdown",
      "metadata": {
        "id": "C6zgLt6UF5fj"
      },
      "source": [
        "#Normalization and PCA \n",
        "Here are the trials we did to downsample data with the PCA, both for 10 and 120 features\n"
      ]
    },
    {
      "cell_type": "code",
      "metadata": {
        "id": "uUUavKT_F91D",
        "colab": {
          "base_uri": "https://localhost:8080/"
        },
        "outputId": "9fdcc465-59ba-4167-acc1-d7fbaddc3b67"
      },
      "source": [
        "#Standardization for each epoch on channels and PCA on time\n",
        "\n",
        "from sklearn.preprocessing import MinMaxScaler   # use the min max scaler between [-1,1]\n",
        "from sklearn.decomposition import PCA\n",
        "\n",
        "epoch_pca_train = []\n",
        "epoch_pca_test = []\n",
        "\n",
        "for i in range(64) :\n",
        "  dataset = epochs_train[:,:,i] \n",
        "  dataset_test = epochs_test[:,:,i] \n",
        "\n",
        "  # Apply min max scaler\n",
        "  mm_scaler =  MinMaxScaler(copy=False,feature_range=(-1, 1))   \n",
        "  mm_scaler.fit_transform(dataset) \n",
        "  df_test = pd.DataFrame(  mm_scaler.transform(dataset_test) )\n",
        "  df = pd.DataFrame(dataset)\n",
        "  \n",
        "  pca = PCA(120) # idem for 10 features\n",
        "  pca.fit(df)\n",
        "  transf_data = pca.transform(df)\n",
        "  \n",
        "  transf_data_test =pca.transform(df_test)\n",
        "  epoch_pca_train.append(transf_data)\n",
        "  epoch_pca_test.append(transf_data_test)\n",
        "\n",
        "epoch_pca_train = np.array(epoch_pca_train)\n",
        "epoch_pca_train.shape \n",
        "epoch_pca_test = np.array(epoch_pca_test)\n",
        "epoch_pca_test.shape \n",
        " \n",
        "# Dataset after standardisation and PCA\n",
        "epoch_fin_train = []\n",
        "\n",
        "for i in range(64):\n",
        "  a = epoch_pca_train[i].transpose()\n",
        "  epoch_fin_train.append(a)\n",
        "\n",
        "epoch_fin_train = np.array(epoch_fin_train)\n",
        "epoch_fin_train = epoch_fin_train.transpose()\n",
        "\n",
        "epoch_fin_test = []\n",
        "\n",
        "for i in range(64):\n",
        "  a = epoch_pca_test[i].transpose()\n",
        "  epoch_fin_test.append(a)\n",
        "\n",
        "epoch_fin_test = np.array(epoch_fin_test)\n",
        "epoch_fin_test = epoch_fin_test.transpose()\n"
      ],
      "execution_count": null,
      "outputs": [
        {
          "output_type": "execute_result",
          "data": {
            "text/plain": [
              "(18000, 120, 64)"
            ]
          },
          "metadata": {
            "tags": []
          },
          "execution_count": 13
        }
      ]
    },
    {
      "cell_type": "code",
      "metadata": {
        "id": "VfxOtsuyGBVb",
        "colab": {
          "base_uri": "https://localhost:8080/",
          "height": 144
        },
        "outputId": "3ef8fabb-699a-4d24-b913-0af842344584"
      },
      "source": [
        "'''\n",
        "pd.DataFrame(pca.explained_variance_).transpose()\n",
        "pd.DataFrame(pca.explained_variance_).transpose()\n",
        "explained_var=pd.DataFrame(pca.explained_variance_ratio_).transpose()\n",
        "explained_var\n",
        "'''"
      ],
      "execution_count": null,
      "outputs": [
        {
          "output_type": "execute_result",
          "data": {
            "text/html": [
              "<div>\n",
              "<style scoped>\n",
              "    .dataframe tbody tr th:only-of-type {\n",
              "        vertical-align: middle;\n",
              "    }\n",
              "\n",
              "    .dataframe tbody tr th {\n",
              "        vertical-align: top;\n",
              "    }\n",
              "\n",
              "    .dataframe thead th {\n",
              "        text-align: right;\n",
              "    }\n",
              "</style>\n",
              "<table border=\"1\" class=\"dataframe\">\n",
              "  <thead>\n",
              "    <tr style=\"text-align: right;\">\n",
              "      <th></th>\n",
              "      <th>0</th>\n",
              "      <th>1</th>\n",
              "      <th>2</th>\n",
              "      <th>3</th>\n",
              "      <th>4</th>\n",
              "      <th>5</th>\n",
              "      <th>6</th>\n",
              "      <th>7</th>\n",
              "      <th>8</th>\n",
              "      <th>9</th>\n",
              "      <th>10</th>\n",
              "      <th>11</th>\n",
              "      <th>12</th>\n",
              "      <th>13</th>\n",
              "      <th>14</th>\n",
              "      <th>15</th>\n",
              "      <th>16</th>\n",
              "      <th>17</th>\n",
              "      <th>18</th>\n",
              "      <th>19</th>\n",
              "      <th>20</th>\n",
              "      <th>21</th>\n",
              "      <th>22</th>\n",
              "      <th>23</th>\n",
              "      <th>24</th>\n",
              "      <th>25</th>\n",
              "      <th>26</th>\n",
              "      <th>27</th>\n",
              "      <th>28</th>\n",
              "      <th>29</th>\n",
              "      <th>30</th>\n",
              "      <th>31</th>\n",
              "      <th>32</th>\n",
              "      <th>33</th>\n",
              "      <th>34</th>\n",
              "      <th>35</th>\n",
              "      <th>36</th>\n",
              "      <th>37</th>\n",
              "      <th>38</th>\n",
              "      <th>39</th>\n",
              "      <th>...</th>\n",
              "      <th>80</th>\n",
              "      <th>81</th>\n",
              "      <th>82</th>\n",
              "      <th>83</th>\n",
              "      <th>84</th>\n",
              "      <th>85</th>\n",
              "      <th>86</th>\n",
              "      <th>87</th>\n",
              "      <th>88</th>\n",
              "      <th>89</th>\n",
              "      <th>90</th>\n",
              "      <th>91</th>\n",
              "      <th>92</th>\n",
              "      <th>93</th>\n",
              "      <th>94</th>\n",
              "      <th>95</th>\n",
              "      <th>96</th>\n",
              "      <th>97</th>\n",
              "      <th>98</th>\n",
              "      <th>99</th>\n",
              "      <th>100</th>\n",
              "      <th>101</th>\n",
              "      <th>102</th>\n",
              "      <th>103</th>\n",
              "      <th>104</th>\n",
              "      <th>105</th>\n",
              "      <th>106</th>\n",
              "      <th>107</th>\n",
              "      <th>108</th>\n",
              "      <th>109</th>\n",
              "      <th>110</th>\n",
              "      <th>111</th>\n",
              "      <th>112</th>\n",
              "      <th>113</th>\n",
              "      <th>114</th>\n",
              "      <th>115</th>\n",
              "      <th>116</th>\n",
              "      <th>117</th>\n",
              "      <th>118</th>\n",
              "      <th>119</th>\n",
              "    </tr>\n",
              "  </thead>\n",
              "  <tbody>\n",
              "    <tr>\n",
              "      <th>0</th>\n",
              "      <td>0.763704</td>\n",
              "      <td>0.113785</td>\n",
              "      <td>0.050063</td>\n",
              "      <td>0.023523</td>\n",
              "      <td>0.014866</td>\n",
              "      <td>0.010499</td>\n",
              "      <td>0.007736</td>\n",
              "      <td>0.006098</td>\n",
              "      <td>0.004757</td>\n",
              "      <td>0.002881</td>\n",
              "      <td>0.001313</td>\n",
              "      <td>0.000503</td>\n",
              "      <td>0.000179</td>\n",
              "      <td>0.00006</td>\n",
              "      <td>0.000021</td>\n",
              "      <td>0.000008</td>\n",
              "      <td>0.000003</td>\n",
              "      <td>7.930821e-07</td>\n",
              "      <td>2.576689e-07</td>\n",
              "      <td>1.008258e-07</td>\n",
              "      <td>5.833624e-08</td>\n",
              "      <td>4.039611e-08</td>\n",
              "      <td>2.988199e-08</td>\n",
              "      <td>1.380604e-08</td>\n",
              "      <td>6.147563e-09</td>\n",
              "      <td>2.578308e-09</td>\n",
              "      <td>1.193173e-09</td>\n",
              "      <td>5.585689e-10</td>\n",
              "      <td>2.828426e-10</td>\n",
              "      <td>1.453382e-10</td>\n",
              "      <td>8.050909e-11</td>\n",
              "      <td>6.771970e-11</td>\n",
              "      <td>4.334925e-11</td>\n",
              "      <td>2.169667e-11</td>\n",
              "      <td>1.084655e-11</td>\n",
              "      <td>5.675594e-12</td>\n",
              "      <td>3.200636e-12</td>\n",
              "      <td>1.714708e-12</td>\n",
              "      <td>9.903553e-13</td>\n",
              "      <td>6.407860e-13</td>\n",
              "      <td>...</td>\n",
              "      <td>5.356927e-19</td>\n",
              "      <td>4.024889e-19</td>\n",
              "      <td>3.058025e-19</td>\n",
              "      <td>2.516739e-19</td>\n",
              "      <td>2.278474e-19</td>\n",
              "      <td>1.701032e-19</td>\n",
              "      <td>1.280693e-19</td>\n",
              "      <td>9.649520e-20</td>\n",
              "      <td>6.607273e-20</td>\n",
              "      <td>5.406424e-20</td>\n",
              "      <td>4.218011e-20</td>\n",
              "      <td>3.543479e-20</td>\n",
              "      <td>3.056586e-20</td>\n",
              "      <td>2.142806e-20</td>\n",
              "      <td>1.832879e-20</td>\n",
              "      <td>1.435537e-20</td>\n",
              "      <td>1.068163e-20</td>\n",
              "      <td>8.784172e-21</td>\n",
              "      <td>6.002917e-21</td>\n",
              "      <td>5.068764e-21</td>\n",
              "      <td>4.570567e-21</td>\n",
              "      <td>3.551208e-21</td>\n",
              "      <td>2.858967e-21</td>\n",
              "      <td>2.047608e-21</td>\n",
              "      <td>1.683271e-21</td>\n",
              "      <td>1.519318e-21</td>\n",
              "      <td>1.169387e-21</td>\n",
              "      <td>9.297086e-22</td>\n",
              "      <td>7.166716e-22</td>\n",
              "      <td>5.264622e-22</td>\n",
              "      <td>4.306327e-22</td>\n",
              "      <td>3.691708e-22</td>\n",
              "      <td>3.023928e-22</td>\n",
              "      <td>2.494965e-22</td>\n",
              "      <td>2.141775e-22</td>\n",
              "      <td>1.472419e-22</td>\n",
              "      <td>1.339123e-22</td>\n",
              "      <td>9.786390e-23</td>\n",
              "      <td>7.974482e-23</td>\n",
              "      <td>7.091684e-23</td>\n",
              "    </tr>\n",
              "  </tbody>\n",
              "</table>\n",
              "<p>1 rows × 120 columns</p>\n",
              "</div>"
            ],
            "text/plain": [
              "        0         1         2    ...           117           118           119\n",
              "0  0.763704  0.113785  0.050063  ...  9.786390e-23  7.974482e-23  7.091684e-23\n",
              "\n",
              "[1 rows x 120 columns]"
            ]
          },
          "metadata": {
            "tags": []
          },
          "execution_count": 14
        }
      ]
    },
    {
      "cell_type": "code",
      "metadata": {
        "id": "ouiaqhjxGEl-"
      },
      "source": [
        "'''\n",
        "%matplotlib inline\n",
        "import seaborn as sns\n",
        "ax = sns.barplot( data=explained_var)\n",
        "'''"
      ],
      "execution_count": null,
      "outputs": []
    },
    {
      "cell_type": "markdown",
      "metadata": {
        "id": "BCDmIHc8GHbt"
      },
      "source": [
        "## Save data from PCA"
      ]
    },
    {
      "cell_type": "code",
      "metadata": {
        "id": "6RzjZmlxGJYp"
      },
      "source": [
        "\n",
        "hf = h5py.File('/content/drive/MyDrive/workshop_neuro/dataset/A/TRAIN/train_A_PCA_120.h5', 'w')\n",
        "hf.create_dataset('dataset_epoch_train', data=epoch_fin_train) \n",
        "hf.create_dataset('dataset_epoch_labels_train', data=epoch_labels_binary_train)\n",
        "hf.close()\n",
        "\n",
        "hf1 = h5py.File('/content/drive/MyDrive/workshop_neuro/dataset/A/TRAIN/stimulus_code_train.h5', 'w')\n",
        "hf1.create_dataset('StimulusCode',data=stimulus_code_train)\n",
        "hf1.close()\n",
        "\n",
        "hf2 = h5py.File('/content/drive/MyDrive/workshop_neuro/dataset/A/TEST/test_A_PCA_120.h5', 'w')\n",
        "hf2.create_dataset('dataset_epoch_test', data=epoch_fin_test) \n",
        "hf2.create_dataset('dataset_epoch_labels_test', data=epoch_labels_binary_test)\n",
        "hf2.close()\n",
        "\n",
        "hf3 = h5py.File('/content/drive/MyDrive/workshop_neuro/dataset/A/TEST/stimulus_code_test.h5', 'w')\n",
        "hf3.create_dataset('StimulusCode',data=stimulus_code_test)\n",
        "hf3.close()\n",
        "\n",
        "chars_train.tofile('/content/drive/MyDrive/workshop_neuro/dataset/A/TRAIN/target_chars_train.csv',sep=',')\n",
        "chars_test.tofile('/content/drive/MyDrive/workshop_neuro/dataset/A/TEST/target_chars_test.csv',sep=',')\n"
      ],
      "execution_count": null,
      "outputs": []
    },
    {
      "cell_type": "markdown",
      "metadata": {
        "id": "dIqFg3yMGL4t"
      },
      "source": [
        "#**RESTART THE RUN TIME**"
      ]
    },
    {
      "cell_type": "code",
      "metadata": {
        "id": "rWW7iO4hGO3u",
        "colab": {
          "base_uri": "https://localhost:8080/"
        },
        "outputId": "7ac21255-0985-4353-f7d2-02c3f2ec160f"
      },
      "source": [
        "from google.colab import drive\n",
        "drive.mount('/content/drive')"
      ],
      "execution_count": null,
      "outputs": [
        {
          "output_type": "stream",
          "text": [
            "Drive already mounted at /content/drive; to attempt to forcibly remount, call drive.mount(\"/content/drive\", force_remount=True).\n"
          ],
          "name": "stdout"
        }
      ]
    },
    {
      "cell_type": "code",
      "metadata": {
        "id": "HZwFOfoOGQ9q"
      },
      "source": [
        "import matplotlib.pyplot as plt   \n",
        "import numpy as np                \n",
        "import os                         \n",
        "import pandas as pd\n",
        "from pathlib import Path          \n",
        "from scipy.io import loadmat      \n",
        "from scipy import signal          \n",
        "from tqdm.auto import tqdm  \n",
        "import h5py\n",
        "import keras\n",
        "from collections import Counter\n",
        "import csv"
      ],
      "execution_count": null,
      "outputs": []
    },
    {
      "cell_type": "markdown",
      "metadata": {
        "id": "GENLvaL3yOlY"
      },
      "source": [
        "# BEST MODEL\n",
        "Here we import data from our best model which is PCA120, but you can import data from other models like PCA10 or downsampling with 10 or 120 features to train the respective model"
      ]
    },
    {
      "cell_type": "code",
      "metadata": {
        "id": "WS9DvWRpGT08"
      },
      "source": [
        "hf = h5py.File('/content/drive/MyDrive/workshop_neuro/dataset/A/TRAIN/train_A_PCA_120.h5', 'r')\n",
        "hf1 = h5py.File('/content/drive/MyDrive/workshop_neuro/dataset/A/TRAIN/stimulus_code_train.h5', 'r')\n",
        "hf2 = h5py.File('/content/drive/MyDrive/workshop_neuro/dataset/A/TEST/test_A_PCA_120.h5', 'r')\n",
        "hf3 = h5py.File('/content/drive/MyDrive/workshop_neuro/dataset/A/TEST/stimulus_code_test.h5', 'r')\n",
        "\n",
        "epoch_fin_train = hf.get('dataset_epoch_train')\n",
        "epoch_labels_binary_train = hf.get('dataset_epoch_labels_train')\n",
        "stimulus_code_train= hf1.get('StimulusCode')\n",
        "\n",
        "epoch_fin_test = hf2.get('dataset_epoch_test')\n",
        "epoch_labels_binary_test = hf2.get('dataset_epoch_labels_test')\n",
        "stimulus_code_test= hf3.get('StimulusCode')\n",
        "\n",
        "chars_train = []\n",
        "chars_test = []\n",
        "\n",
        "  # Read file content\n",
        "with open('/content/drive/MyDrive/workshop_neuro/dataset/A/TRAIN/target_chars_train.csv', \"r\") as f:\n",
        "  file_content = f.read()\n",
        "  \n",
        "  # Loop over all rows (except first one)\n",
        "  for row in file_content.split(\"','\"):\n",
        "    chars_train.append(row)\n",
        "\n",
        "with open('/content/drive/MyDrive/workshop_neuro/dataset/A/TEST/target_chars_test.csv', \"r\") as f:\n",
        "  file_content = f.read()\n",
        "  \n",
        "  # Loop over all rows (except first one)\n",
        "  for row in file_content.split(\"','\"): \n",
        "    chars_test.append(row)\n",
        "\n",
        "epoch_fin_train = np.array(epoch_fin_train)\n",
        "epoch_labels_binary_train =np.array(epoch_labels_binary_train)\n",
        "stimulus_code_train=np.array(stimulus_code_train)\n",
        "\n",
        "epoch_fin_test = np.array(epoch_fin_test)\n",
        "epoch_labels_binary_test =np.array(epoch_labels_binary_test)\n",
        "stimulus_code_test=np.array(stimulus_code_test)\n",
        "\n",
        "chars_train = np.array(chars_train)\n",
        "chars_test = np.array(chars_test)"
      ],
      "execution_count": null,
      "outputs": []
    },
    {
      "cell_type": "markdown",
      "metadata": {
        "id": "nS0oQtJLGXRG"
      },
      "source": [
        "#Split train and validation\n"
      ]
    },
    {
      "cell_type": "code",
      "metadata": {
        "id": "Hr0_k5xBGYEp"
      },
      "source": [
        "#split train validation set: the observation dimension (the 1500) needs to be in the x axis in order for this to work\n",
        "from sklearn.model_selection import train_test_split\n",
        "\n",
        "#SPLIT DATA INTO TRAIN AND VALIDATION SET\n",
        "X_train, X_val, y_train, y_val = train_test_split(epoch_fin_train, epoch_labels_binary_train, test_size=0.3, stratify=epoch_labels_binary_train, random_state=123) #fix random seed for X_train.shape "
      ],
      "execution_count": null,
      "outputs": []
    },
    {
      "cell_type": "code",
      "metadata": {
        "id": "p91AN5R_GeIC",
        "colab": {
          "base_uri": "https://localhost:8080/"
        },
        "outputId": "39c96740-ed86-4f05-92e4-99a5fcc33a78"
      },
      "source": [
        "# OVER SAMPLING USING KBBG over the single batch (with batch size of 264)\n",
        "\n",
        "!pip install keras-balanced-batch-generator\n",
        "from keras_balanced_batch_generator import make_generator\n",
        "\n",
        "batch_size = 264\n",
        "\n",
        "X_train = X_train.reshape(len(X_train),X_train.shape[1],64,1)\n",
        "X_val = X_val.reshape(len(X_val),X_val.shape[1],64,1)\n",
        "\n",
        "y_train=keras.utils.to_categorical(y_train)\n",
        "y_val=keras.utils.to_categorical(y_val)\n",
        "\n",
        "epoch_fin_test = epoch_fin_test.reshape(len(epoch_fin_test),epoch_fin_test.shape[1],64,1)\n",
        "\n",
        "generator = make_generator(X_train, y_train,batch_size=batch_size,seed=123)"
      ],
      "execution_count": null,
      "outputs": [
        {
          "output_type": "stream",
          "text": [
            "Collecting keras-balanced-batch-generator\n",
            "  Downloading https://files.pythonhosted.org/packages/df/35/95ced8f211cbb645b20d9ae86157399db1ed2a2eac6d567dd84fec231a4a/keras_balanced_batch_generator-0.0.0-py3-none-any.whl\n",
            "Requirement already satisfied: numpy>=1.0.0 in /usr/local/lib/python3.6/dist-packages (from keras-balanced-batch-generator) (1.18.5)\n",
            "Installing collected packages: keras-balanced-batch-generator\n",
            "Successfully installed keras-balanced-batch-generator-0.0.0\n"
          ],
          "name": "stdout"
        }
      ]
    },
    {
      "cell_type": "code",
      "metadata": {
        "id": "lxKYlzvsGmtv",
        "colab": {
          "base_uri": "https://localhost:8080/",
          "height": 158
        },
        "outputId": "82b8e0f2-bd69-42e2-eeab-b0d06cc03ef4"
      },
      "source": [
        "# here is the code with other oversampling methods, like the random oversampler and smote\n",
        "'''\n",
        "# Oversample Training set\n",
        "!pip install imblearn\n",
        "from collections import Counter\n",
        "from imblearn.over_sampling import RandomOverSampler, SMOTE,ADASYN\n",
        "\n",
        "epoch_resample = []\n",
        "\n",
        "print('Original dataset shape %s' % Counter(y_train))\n",
        "\n",
        "X_train = X_train.reshape(len(X_train),64*120)\n",
        "ros = SMOTE(random_state=123,sampling_strategy = 'minority') # change with RandomOverSampler to try it\n",
        "X_res, epoch_labels_resample = ros.fit_resample(X_train, y_train)\n",
        "X_train = X_res.reshape(X_res.shape[0],120,64,1)\n",
        "X_val = X_val.reshape(len(X_val),X_train.shape[1],64,1)\n",
        "epoch_fin_test = epoch_fin_test.reshape(len(epoch_fin_test),epoch_fin_test.shape[1],64,1)\n",
        "y_train = epoch_labels_resample\n",
        "\n",
        "print('Resample dataset shape %s' % Counter(epoch_labels_resample))\n",
        "'''"
      ],
      "execution_count": null,
      "outputs": [
        {
          "output_type": "execute_result",
          "data": {
            "application/vnd.google.colaboratory.intrinsic+json": {
              "type": "string"
            },
            "text/plain": [
              "\"\\n# Oversample Training set\\n!pip install imblearn\\nfrom collections import Counter\\nfrom imblearn.over_sampling import RandomOverSampler, SMOTE,ADASYN\\n\\nepoch_resample = []\\n\\nprint('Original dataset shape %s' % Counter(y_train))\\n\\nX_train = X_train.reshape(len(X_train),64*120)\\nros = SMOTE(random_state=123,sampling_strategy = 'minority') # change with RandomOverSampler to try it\\nX_res, epoch_labels_resample = ros.fit_resample(X_train, y_train)\\nX_train = X_res.reshape(X_res.shape[0],120,64,1)\\nX_val = X_val.reshape(len(X_val),X_train.shape[1],64,1)\\nepoch_fin_test = epoch_fin_test.reshape(len(epoch_fin_test),epoch_fin_test.shape[1],64,1)\\ny_train = epoch_labels_resample\\n\\nprint('Resample dataset shape %s' % Counter(epoch_labels_resample))\\n\""
            ]
          },
          "metadata": {
            "tags": []
          },
          "execution_count": 10
        }
      ]
    },
    {
      "cell_type": "markdown",
      "metadata": {
        "id": "_HoJoTr7Gupn"
      },
      "source": [
        "#Model CNN with 120 features"
      ]
    },
    {
      "cell_type": "code",
      "metadata": {
        "id": "9NG7tFePGwJt",
        "colab": {
          "base_uri": "https://localhost:8080/"
        },
        "outputId": "043a95c8-4417-49be-8f23-28c841767bb8"
      },
      "source": [
        "import tensorflow as tf\n",
        "from tensorflow import keras\n",
        "from tensorflow.keras import initializers\n",
        "from keras import regularizers\n",
        "\n",
        "def build_model2d(image_heigth=X_train.shape[1],image_weigth=64, image_depth=1, learn_rate=0.001, dropout_rate=0.5):\n",
        "\n",
        "  input_layer = keras.layers.Input(shape=[image_heigth,image_weigth, image_depth])\n",
        "  \n",
        "  layers2 = keras.layers.Conv2D(filters=20, kernel_size=(1,64), strides = (1,64),padding=\"same\", activation=tf.keras.layers.LeakyReLU(alpha=0.2),kernel_regularizer= regularizers.l1(0.0005),bias_regularizer = regularizers.l1(0.0005)) (input_layer)\n",
        "\n",
        "\n",
        "  layers3_1 = keras.layers.Conv2D(strides=(5,1),filters=16,kernel_size=(5,1),padding=\"same\", activation=tf.keras.layers.LeakyReLU(alpha=0.2))(layers2)      \n",
        "\n",
        "  \n",
        "  layers3_2 = keras.layers.Conv2D(strides=(10,1),filters=16, kernel_size=(10,1), padding=\"same\",activation=tf.keras.layers.LeakyReLU(alpha=0.2))(layers2)  \n",
        "  \n",
        "  layers3_3 = keras.layers.Conv2D(strides=(15,1),filters=16, kernel_size=(15,1), padding=\"same\", activation=tf.keras.layers.LeakyReLU(alpha=0.2))(layers2)                                                                                    \n",
        "  \n",
        "  layers4 = keras.layers.concatenate([layers3_1,layers3_2,layers3_3],axis=1)\n",
        "\n",
        "  layers4 = keras.layers.Dropout(rate=dropout_rate)(layers4)\n",
        " \n",
        "  layers5_1 = keras.layers.Conv2D(strides=(2,1),filters=16,kernel_size=(2,1),padding=\"same\", activation=tf.keras.layers.LeakyReLU(alpha=0.2))(layers4)      \n",
        "  \n",
        "  layers5_2 = keras.layers.Conv2D(strides=(4,1),filters=16, kernel_size=(4,1), padding=\"same\",activation=tf.keras.layers.LeakyReLU(alpha=0.2))(layers4)  \n",
        "  \n",
        "  layers5_3 = keras.layers.Conv2D(strides=(11,1),filters=16, kernel_size=(11,1), padding=\"same\", activation=tf.keras.layers.LeakyReLU(alpha=0.2))(layers4) \n",
        "  \n",
        "  layers6 = keras.layers.concatenate([layers5_1,layers5_2,layers5_3],axis=1)\n",
        "  \n",
        "  layers6 = keras.layers.Dropout(rate=dropout_rate)(layers6)\n",
        " \n",
        "  layers7 = keras.layers.MaxPool2D(pool_size=(2,1))(layers6)\n",
        "\n",
        "  layers8 = keras.layers.Flatten()(layers7)\n",
        "\n",
        "  layers8 = keras.layers.Dense(100, activation=tf.keras.layers.LeakyReLU(alpha=0.2))(layers8)\n",
        "  \n",
        "  layers9 = keras.layers.Dense(2, activation=tf.nn.softmax)(layers8)\n",
        "    \n",
        "  model = keras.Model(inputs=input_layer,\n",
        "                        outputs= layers9,\n",
        "                        name=\"P300_model\"\n",
        "                        )\n",
        "  # Compile model\n",
        "  optimizer = keras.optimizers.Adam(learning_rate=learn_rate)\n",
        "  model.compile(\n",
        "      \n",
        "      optimizer = optimizer,\n",
        "      loss = 'sparse_categorical_crossentropy',\n",
        "      metrics = ['accuracy'])\n",
        "    \n",
        "  return model \n",
        "  \n",
        "model = build_model2d(image_heigth = X_train.shape[1],image_weigth= 64,image_depth = 1)    \n",
        "model.summary()"
      ],
      "execution_count": null,
      "outputs": [
        {
          "output_type": "stream",
          "text": [
            "Model: \"P300_model\"\n",
            "__________________________________________________________________________________________________\n",
            "Layer (type)                    Output Shape         Param #     Connected to                     \n",
            "==================================================================================================\n",
            "input_1 (InputLayer)            [(None, 120, 64, 1)] 0                                            \n",
            "__________________________________________________________________________________________________\n",
            "conv2d (Conv2D)                 (None, 120, 1, 20)   1300        input_1[0][0]                    \n",
            "__________________________________________________________________________________________________\n",
            "conv2d_1 (Conv2D)               (None, 24, 1, 16)    1616        conv2d[0][0]                     \n",
            "__________________________________________________________________________________________________\n",
            "conv2d_2 (Conv2D)               (None, 12, 1, 16)    3216        conv2d[0][0]                     \n",
            "__________________________________________________________________________________________________\n",
            "conv2d_3 (Conv2D)               (None, 8, 1, 16)     4816        conv2d[0][0]                     \n",
            "__________________________________________________________________________________________________\n",
            "concatenate (Concatenate)       (None, 44, 1, 16)    0           conv2d_1[0][0]                   \n",
            "                                                                 conv2d_2[0][0]                   \n",
            "                                                                 conv2d_3[0][0]                   \n",
            "__________________________________________________________________________________________________\n",
            "dropout (Dropout)               (None, 44, 1, 16)    0           concatenate[0][0]                \n",
            "__________________________________________________________________________________________________\n",
            "conv2d_4 (Conv2D)               (None, 22, 1, 16)    528         dropout[0][0]                    \n",
            "__________________________________________________________________________________________________\n",
            "conv2d_5 (Conv2D)               (None, 11, 1, 16)    1040        dropout[0][0]                    \n",
            "__________________________________________________________________________________________________\n",
            "conv2d_6 (Conv2D)               (None, 4, 1, 16)     2832        dropout[0][0]                    \n",
            "__________________________________________________________________________________________________\n",
            "concatenate_1 (Concatenate)     (None, 37, 1, 16)    0           conv2d_4[0][0]                   \n",
            "                                                                 conv2d_5[0][0]                   \n",
            "                                                                 conv2d_6[0][0]                   \n",
            "__________________________________________________________________________________________________\n",
            "dropout_1 (Dropout)             (None, 37, 1, 16)    0           concatenate_1[0][0]              \n",
            "__________________________________________________________________________________________________\n",
            "max_pooling2d (MaxPooling2D)    (None, 18, 1, 16)    0           dropout_1[0][0]                  \n",
            "__________________________________________________________________________________________________\n",
            "flatten (Flatten)               (None, 288)          0           max_pooling2d[0][0]              \n",
            "__________________________________________________________________________________________________\n",
            "dense (Dense)                   (None, 100)          28900       flatten[0][0]                    \n",
            "__________________________________________________________________________________________________\n",
            "dense_1 (Dense)                 (None, 2)            202         dense[0][0]                      \n",
            "==================================================================================================\n",
            "Total params: 44,450\n",
            "Trainable params: 44,450\n",
            "Non-trainable params: 0\n",
            "__________________________________________________________________________________________________\n"
          ],
          "name": "stdout"
        }
      ]
    },
    {
      "cell_type": "markdown",
      "metadata": {
        "id": "cp51_9Za0MV8"
      },
      "source": [
        "#MODEL CNN with 10 features"
      ]
    },
    {
      "cell_type": "code",
      "metadata": {
        "colab": {
          "base_uri": "https://localhost:8080/",
          "height": 188
        },
        "id": "SHpk2qlI0J7I",
        "outputId": "7c70818c-eef2-48ee-c52f-d4f8099c16b3"
      },
      "source": [
        "'''\n",
        "import tensorflow as tf\n",
        "from tensorflow import keras\n",
        "from tensorflow.keras import initializers\n",
        "from keras import regularizers\n",
        "\n",
        "def build_model2d(image_heigth=X_train.shape[1],image_weigth=64, image_depth=1, learn_rate=0.001, dropout_rate=0.5):\n",
        "\n",
        "  input_layer = keras.layers.Input(shape=[image_heigth,image_weigth, image_depth])\n",
        "  \n",
        "  layers2 = keras.layers.Conv2D(filters=20, kernel_size=(1,64), strides = (1,64),padding=\"same\", activation=tf.keras.layers.LeakyReLU(alpha=0.2),kernel_regularizer= regularizers.l1(0.0005),bias_regularizer = regularizers.l1(0.0005)) (input_layer)\n",
        "\n",
        "\n",
        "  layers3_1 = keras.layers.Conv2D(strides=(2,1),filters=16,kernel_size=(2,1),padding=\"same\", activation=tf.keras.layers.LeakyReLU(alpha=0.2))(layers2)      \n",
        "\n",
        "  \n",
        "  layers3_2 = keras.layers.Conv2D(strides=(5,1),filters=16, kernel_size=(5,1), padding=\"same\",activation=tf.keras.layers.LeakyReLU(alpha=0.2))(layers2)  \n",
        "  \n",
        "  layers3_3 = keras.layers.Conv2D(strides=(10,1),filters=16, kernel_size=(10,1), padding=\"same\", activation=tf.keras.layers.LeakyReLU(alpha=0.2))(layers2)                                                                                    \n",
        "  \n",
        "  layers4 = keras.layers.concatenate([layers3_1,layers3_2,layers3_3],axis=1)\n",
        "\n",
        "  layers4 = keras.layers.Dropout(rate=dropout_rate)(layers4)\n",
        " \n",
        "  layers5_1 = keras.layers.Conv2D(strides=(1,1),filters=16,kernel_size=(1,1),padding=\"same\", activation=tf.keras.layers.LeakyReLU(alpha=0.2))(layers4)      \n",
        "  \n",
        "  layers5_2 = keras.layers.Conv2D(strides=(2,1),filters=16, kernel_size=(2,1), padding=\"same\",activation=tf.keras.layers.LeakyReLU(alpha=0.2))(layers4)  \n",
        "  \n",
        "  layers5_3 = keras.layers.Conv2D(strides=(5,1),filters=16, kernel_size=(5,1), padding=\"same\", activation=tf.keras.layers.LeakyReLU(alpha=0.2))(layers4) \n",
        "  \n",
        "  layers6 = keras.layers.concatenate([layers5_1,layers5_2,layers5_3],axis=1)\n",
        "  \n",
        "  layers6 = keras.layers.Dropout(rate=dropout_rate)(layers6)\n",
        " \n",
        "  layers7 = keras.layers.MaxPool2D(pool_size=(2,1))(layers6)\n",
        "\n",
        "  layers8 = keras.layers.Flatten()(layers7)\n",
        "\n",
        "  layers8 = keras.layers.Dense(100, activation=tf.keras.layers.LeakyReLU(alpha=0.2))(layers8)\n",
        "  \n",
        "  layers9 = keras.layers.Dense(2, activation=tf.nn.softmax)(layers8)\n",
        "    \n",
        "  model = keras.Model(inputs=input_layer,\n",
        "                        outputs= layers9,\n",
        "                        name=\"P300_model\"\n",
        "                        )\n",
        "  # Compile model\n",
        "  optimizer = keras.optimizers.Adam(learning_rate=learn_rate)\n",
        "  model.compile(\n",
        "      \n",
        "      optimizer = optimizer,\n",
        "      loss = 'sparse_categorical_crossentropy',\n",
        "      metrics = ['accuracy'])\n",
        "    \n",
        "  return model \n",
        "\n",
        "model = build_model2d(image_heigth = X_train.shape[1],image_weigth= 64,image_depth = 1)    \n",
        "model.summary()\n",
        "'''"
      ],
      "execution_count": null,
      "outputs": [
        {
          "output_type": "execute_result",
          "data": {
            "application/vnd.google.colaboratory.intrinsic+json": {
              "type": "string"
            },
            "text/plain": [
              "'\\nimport tensorflow as tf\\nfrom tensorflow import keras\\nfrom tensorflow.keras import initializers\\nfrom keras import regularizers\\n\\ndef build_model2d(image_heigth=X_train.shape[1],image_weigth=64, image_depth=1, learn_rate=0.001, dropout_rate=0.5):\\n\\n  input_layer = keras.layers.Input(shape=[image_heigth,image_weigth, image_depth])\\n  \\n  layers2 = keras.layers.Conv2D(filters=20, kernel_size=(1,64), strides = (1,64),padding=\"same\", activation=tf.keras.layers.LeakyReLU(alpha=0.2),kernel_regularizer= regularizers.l1(0.0005),bias_regularizer = regularizers.l1(0.0005)) (input_layer)\\n\\n\\n  layers3_1 = keras.layers.Conv2D(strides=(2,1),filters=16,kernel_size=(2,1),padding=\"same\", activation=tf.keras.layers.LeakyReLU(alpha=0.2))(layers2)      \\n\\n  \\n  layers3_2 = keras.layers.Conv2D(strides=(5,1),filters=16, kernel_size=(5,1), padding=\"same\",activation=tf.keras.layers.LeakyReLU(alpha=0.2))(layers2)  \\n  \\n  layers3_3 = keras.layers.Conv2D(strides=(10,1),filters=16, kernel_size=(10,1), padding=\"same\", activation=tf.keras.layers.LeakyReLU(alpha=0.2))(layers2)                                                                                    \\n  \\n  layers4 = keras.layers.concatenate([layers3_1,layers3_2,layers3_3],axis=1)\\n\\n  layers4 = keras.layers.Dropout(rate=dropout_rate)(layers4)\\n \\n  layers5_1 = keras.layers.Conv2D(strides=(1,1),filters=16,kernel_size=(1,1),padding=\"same\", activation=tf.keras.layers.LeakyReLU(alpha=0.2))(layers4)      \\n  \\n  layers5_2 = keras.layers.Conv2D(strides=(2,1),filters=16, kernel_size=(2,1), padding=\"same\",activation=tf.keras.layers.LeakyReLU(alpha=0.2))(layers4)  \\n  \\n  layers5_3 = keras.layers.Conv2D(strides=(5,1),filters=16, kernel_size=(5,1), padding=\"same\", activation=tf.keras.layers.LeakyReLU(alpha=0.2))(layers4) \\n  \\n  layers6 = keras.layers.concatenate([layers5_1,layers5_2,layers5_3],axis=1)\\n  \\n  layers6 = keras.layers.Dropout(rate=dropout_rate)(layers6)\\n \\n  layers7 = keras.layers.MaxPool2D(pool_size=(2,1))(layers6)\\n\\n  layers8 = keras.layers.Flatten()(layers7)\\n\\n  layers8 = keras.layers.Dense(100, activation=tf.keras.layers.LeakyReLU(alpha=0.2))(layers8)\\n  \\n  layers9 = keras.layers.Dense(2, activation=tf.nn.softmax)(layers8)\\n    \\n  model = keras.Model(inputs=input_layer,\\n                        outputs= layers9,\\n                        name=\"P300_model\"\\n                        )\\n  # Compile model\\n  optimizer = keras.optimizers.Adam(learning_rate=learn_rate)\\n  model.compile(\\n      \\n      optimizer = optimizer,\\n      loss = \\'sparse_categorical_crossentropy\\',\\n      metrics = [\\'accuracy\\'])\\n    \\n  return model \\n\\nmodel = build_model2d(image_heigth = X_train.shape[1],image_weigth= 64,image_depth = 1)    \\nmodel.summary()\\n'"
            ]
          },
          "metadata": {
            "tags": []
          },
          "execution_count": 10
        }
      ]
    },
    {
      "cell_type": "markdown",
      "metadata": {
        "id": "li_W7Se7G3l5"
      },
      "source": [
        "## Training"
      ]
    },
    {
      "cell_type": "code",
      "metadata": {
        "colab": {
          "base_uri": "https://localhost:8080/"
        },
        "id": "f4TR9ufgNgbi",
        "outputId": "65919d7c-f23d-4996-8721-548c85b4c52f"
      },
      "source": [
        "model.compile(\n",
        "    optimizer = keras.optimizers.Adam(learning_rate=0.001),\n",
        "    loss = 'categorical_crossentropy',\n",
        "    metrics = ['accuracy'])\n",
        "\n",
        "history = model.fit(generator, steps_per_epoch=X_train.shape[0]/batch_size,epochs=20,validation_data=(X_val,y_val))"
      ],
      "execution_count": null,
      "outputs": [
        {
          "output_type": "stream",
          "text": [
            "Epoch 1/20\n",
            "41/40 [==============================] - 1s 25ms/step - loss: 0.7105 - accuracy: 0.5075 - val_loss: 0.6969 - val_accuracy: 0.8266\n",
            "Epoch 2/20\n",
            "41/40 [==============================] - 1s 21ms/step - loss: 0.7027 - accuracy: 0.5073 - val_loss: 0.7258 - val_accuracy: 0.1667\n",
            "Epoch 3/20\n",
            "41/40 [==============================] - 1s 20ms/step - loss: 0.6985 - accuracy: 0.5102 - val_loss: 0.6954 - val_accuracy: 0.6516\n",
            "Epoch 4/20\n",
            "41/40 [==============================] - 1s 21ms/step - loss: 0.6952 - accuracy: 0.5176 - val_loss: 0.7025 - val_accuracy: 0.4858\n",
            "Epoch 5/20\n",
            "41/40 [==============================] - 1s 19ms/step - loss: 0.6935 - accuracy: 0.5287 - val_loss: 0.7282 - val_accuracy: 0.2312\n",
            "Epoch 6/20\n",
            "41/40 [==============================] - 1s 19ms/step - loss: 0.6933 - accuracy: 0.5295 - val_loss: 0.6708 - val_accuracy: 0.7760\n",
            "Epoch 7/20\n",
            "41/40 [==============================] - 1s 21ms/step - loss: 0.6922 - accuracy: 0.5341 - val_loss: 0.6338 - val_accuracy: 0.8081\n",
            "Epoch 8/20\n",
            "41/40 [==============================] - 1s 20ms/step - loss: 0.6896 - accuracy: 0.5500 - val_loss: 0.6878 - val_accuracy: 0.5928\n",
            "Epoch 9/20\n",
            "41/40 [==============================] - 1s 21ms/step - loss: 0.6841 - accuracy: 0.5710 - val_loss: 0.7230 - val_accuracy: 0.4327\n",
            "Epoch 10/20\n",
            "41/40 [==============================] - 1s 20ms/step - loss: 0.6821 - accuracy: 0.5689 - val_loss: 0.6619 - val_accuracy: 0.6673\n",
            "Epoch 11/20\n",
            "41/40 [==============================] - 1s 20ms/step - loss: 0.6693 - accuracy: 0.6090 - val_loss: 0.7210 - val_accuracy: 0.5070\n",
            "Epoch 12/20\n",
            "41/40 [==============================] - 1s 20ms/step - loss: 0.6469 - accuracy: 0.6387 - val_loss: 0.5599 - val_accuracy: 0.7691\n",
            "Epoch 13/20\n",
            "41/40 [==============================] - 1s 20ms/step - loss: 0.6314 - accuracy: 0.6540 - val_loss: 0.5648 - val_accuracy: 0.7451\n",
            "Epoch 14/20\n",
            "41/40 [==============================] - 1s 21ms/step - loss: 0.6096 - accuracy: 0.6795 - val_loss: 0.5861 - val_accuracy: 0.7246\n",
            "Epoch 15/20\n",
            "41/40 [==============================] - 1s 18ms/step - loss: 0.5956 - accuracy: 0.6960 - val_loss: 0.6080 - val_accuracy: 0.6900\n",
            "Epoch 16/20\n",
            "41/40 [==============================] - 1s 19ms/step - loss: 0.5855 - accuracy: 0.7044 - val_loss: 0.6924 - val_accuracy: 0.6070\n",
            "Epoch 17/20\n",
            "41/40 [==============================] - 1s 19ms/step - loss: 0.5712 - accuracy: 0.7203 - val_loss: 0.4668 - val_accuracy: 0.8122\n",
            "Epoch 18/20\n",
            "41/40 [==============================] - 1s 18ms/step - loss: 0.5701 - accuracy: 0.7203 - val_loss: 0.5944 - val_accuracy: 0.7050\n",
            "Epoch 19/20\n",
            "41/40 [==============================] - 1s 19ms/step - loss: 0.5632 - accuracy: 0.7271 - val_loss: 0.5670 - val_accuracy: 0.7172\n",
            "Epoch 20/20\n",
            "41/40 [==============================] - 1s 21ms/step - loss: 0.5491 - accuracy: 0.7372 - val_loss: 0.5642 - val_accuracy: 0.7237\n"
          ],
          "name": "stdout"
        }
      ]
    },
    {
      "cell_type": "code",
      "metadata": {
        "id": "Ixzc7jxCpUux",
        "colab": {
          "base_uri": "https://localhost:8080/",
          "height": 644
        },
        "outputId": "a260eea4-1df2-498b-d8d3-2ec44ae5f7ce"
      },
      "source": [
        "acc = history.history['accuracy']\n",
        "val_acc = history.history['val_accuracy']\n",
        "loss = history.history['loss']\n",
        "val_loss = history.history['val_loss']\n",
        "epochs = range(1, len(acc) + 1)\n",
        "axes = plt.gca()\n",
        "axes.set_xlim([0,20])\n",
        "axes.set_ylim([0,1])\n",
        "plt.plot(epochs, acc, 'bo', label='Training acc')\n",
        "plt.plot(epochs, val_acc, 'b', label='Validation acc')\n",
        "plt.title('Training and validation accuracy')\n",
        "plt.xlabel('Epochs')\n",
        "plt.ylabel('Accuracy')\n",
        "ax = plt.axes()        \n",
        "ax.yaxis.grid()\n",
        "axes.set_yticks([0,0.1,0.2,0.3,0.4,0.5,0.6,0.7,0.8,0.9,1])\n",
        "axes.set_xticks([0,1,2,3,4,5,6,7,8,9,10,11,12,13,14,15,16,17,18,19,20])\n",
        "plt.legend()\n",
        "plt.figure()\n",
        "plt.plot(epochs, loss, 'bo', label='Training loss')\n",
        "plt.plot(epochs, val_loss, 'b', label='Validation loss')\n",
        "axes1 = plt.gca()\n",
        "axes1.set_ylim([0,1])\n",
        "ax1 = plt.axes()        \n",
        "ax1.yaxis.grid()\n",
        "plt.title('Training and validation loss')\n",
        "plt.xlabel('Epochs')\n",
        "plt.ylabel('Loss')\n",
        "axes1.set_xticks([0,1,2,3,4,5,6,7,8,9,10,11,12,13,14,15,16,17,18,19,20])\n",
        "axes1.set_yticks([0,0.1,0.2,0.3,0.4,0.5,0.6,0.7,0.8,0.9,1])\n",
        "plt.legend()\n",
        "plt.show()"
      ],
      "execution_count": null,
      "outputs": [
        {
          "output_type": "stream",
          "text": [
            "/usr/local/lib/python3.6/dist-packages/ipykernel_launcher.py:14: MatplotlibDeprecationWarning: Adding an axes using the same arguments as a previous axes currently reuses the earlier instance.  In a future version, a new instance will always be created and returned.  Meanwhile, this warning can be suppressed, and the future behavior ensured, by passing a unique label to each axes instance.\n",
            "  \n",
            "/usr/local/lib/python3.6/dist-packages/ipykernel_launcher.py:24: MatplotlibDeprecationWarning: Adding an axes using the same arguments as a previous axes currently reuses the earlier instance.  In a future version, a new instance will always be created and returned.  Meanwhile, this warning can be suppressed, and the future behavior ensured, by passing a unique label to each axes instance.\n"
          ],
          "name": "stderr"
        },
        {
          "output_type": "display_data",
          "data": {
            "image/png": "[encoded data removed]",
            "text/plain": [
              "<Figure size 432x288 with 1 Axes>"
            ]
          },
          "metadata": {
            "tags": [],
            "needs_background": "light"
          }
        },
        {
          "output_type": "display_data",
          "data": {
            "image/png": "[encoded data removed]",
            "text/plain": [
              "<Figure size 432x288 with 1 Axes>"
            ]
          },
          "metadata": {
            "tags": [],
            "needs_background": "light"
          }
        }
      ]
    },
    {
      "cell_type": "markdown",
      "metadata": {
        "id": "O-yl4Ksq1VHG"
      },
      "source": [
        "The graphs for different drop-out values are not in the code, but the process is the same, only changing the drop-out in the model. Here we show only the graphs for drop-out equal to 0.5\n"
      ]
    },
    {
      "cell_type": "code",
      "metadata": {
        "id": "IfQ9Ks3MGubM",
        "colab": {
          "base_uri": "https://localhost:8080/"
        },
        "outputId": "80b6165d-d658-4d36-fe34-1a29bc2ce3e1"
      },
      "source": [
        "# Fitting for the oversampling using SMOTE or RandomOverSampler\n",
        "'''\n",
        "from keras.callbacks import EarlyStopping, History\n",
        "from keras.callbacks import ModelCheckpoint\n",
        "from keras.callbacks import ReduceLROnPlateau\n",
        "\n",
        "history = model.fit(X_train,y_train, batch_size =264, epochs =20,callbacks=[\n",
        "                              EarlyStopping(monitor='val_accuracy', patience=7,restore_best_weights=True), \n",
        "                              History()],\n",
        "                              #ModelCheckpoint(filepath = 'model_zero7.{epoch:02d}-{val_loss:.6f}.hdf5',verbose=1, save_best_only=True, save_weights_only = True),\n",
        "                              #ReduceLROnPlateau(monitor='val_accuracy', factor=0.1,patience=2, min_lr=0.000001, verbose=1)] , \n",
        "                              validation_data=(X_val,y_val)) \n",
        "'''"
      ],
      "execution_count": null,
      "outputs": [
        {
          "output_type": "stream",
          "text": [
            "Epoch 1/20\n",
            "68/68 [==============================] - 4s 66ms/step - loss: 0.7005 - accuracy: 0.5732 - val_loss: 0.6665 - val_accuracy: 0.6377\n",
            "Epoch 2/20\n",
            "68/68 [==============================] - 4s 62ms/step - loss: 0.6305 - accuracy: 0.6808 - val_loss: 0.6003 - val_accuracy: 0.6856\n",
            "Epoch 3/20\n",
            "68/68 [==============================] - 4s 62ms/step - loss: 0.5396 - accuracy: 0.7543 - val_loss: 0.5295 - val_accuracy: 0.7636\n",
            "Epoch 4/20\n",
            "68/68 [==============================] - 4s 65ms/step - loss: 0.4986 - accuracy: 0.7819 - val_loss: 0.5865 - val_accuracy: 0.7270\n",
            "Epoch 5/20\n",
            "68/68 [==============================] - 4s 61ms/step - loss: 0.4688 - accuracy: 0.8009 - val_loss: 0.5614 - val_accuracy: 0.7473\n",
            "Epoch 6/20\n",
            "68/68 [==============================] - 4s 62ms/step - loss: 0.4481 - accuracy: 0.8133 - val_loss: 0.5714 - val_accuracy: 0.7486\n",
            "Epoch 7/20\n",
            "68/68 [==============================] - 4s 63ms/step - loss: 0.4312 - accuracy: 0.8224 - val_loss: 0.5266 - val_accuracy: 0.7802\n",
            "Epoch 8/20\n",
            "68/68 [==============================] - 4s 63ms/step - loss: 0.4180 - accuracy: 0.8290 - val_loss: 0.5544 - val_accuracy: 0.7675\n",
            "Epoch 9/20\n",
            "68/68 [==============================] - 4s 62ms/step - loss: 0.4052 - accuracy: 0.8388 - val_loss: 0.5252 - val_accuracy: 0.7946\n",
            "Epoch 10/20\n",
            "68/68 [==============================] - 4s 62ms/step - loss: 0.3949 - accuracy: 0.8460 - val_loss: 0.5157 - val_accuracy: 0.8011\n",
            "Epoch 11/20\n",
            "68/68 [==============================] - 4s 60ms/step - loss: 0.3917 - accuracy: 0.8465 - val_loss: 0.5378 - val_accuracy: 0.7900\n",
            "Epoch 12/20\n",
            "68/68 [==============================] - 4s 61ms/step - loss: 0.3798 - accuracy: 0.8510 - val_loss: 0.5424 - val_accuracy: 0.7878\n",
            "Epoch 13/20\n",
            "68/68 [==============================] - 4s 62ms/step - loss: 0.3681 - accuracy: 0.8564 - val_loss: 0.5115 - val_accuracy: 0.8105\n",
            "Epoch 14/20\n",
            "68/68 [==============================] - 4s 64ms/step - loss: 0.3599 - accuracy: 0.8588 - val_loss: 0.6005 - val_accuracy: 0.7645\n",
            "Epoch 15/20\n",
            "68/68 [==============================] - 4s 63ms/step - loss: 0.3584 - accuracy: 0.8625 - val_loss: 0.5738 - val_accuracy: 0.7743\n",
            "Epoch 16/20\n",
            "68/68 [==============================] - 4s 61ms/step - loss: 0.3534 - accuracy: 0.8637 - val_loss: 0.6156 - val_accuracy: 0.7547\n",
            "Epoch 17/20\n",
            "68/68 [==============================] - 4s 62ms/step - loss: 0.3457 - accuracy: 0.8664 - val_loss: 0.5811 - val_accuracy: 0.7804\n",
            "Epoch 18/20\n",
            "68/68 [==============================] - 4s 61ms/step - loss: 0.3442 - accuracy: 0.8701 - val_loss: 0.5811 - val_accuracy: 0.7815\n",
            "Epoch 19/20\n",
            "68/68 [==============================] - 5s 66ms/step - loss: 0.3406 - accuracy: 0.8706 - val_loss: 0.5871 - val_accuracy: 0.7789\n",
            "Epoch 20/20\n",
            "68/68 [==============================] - 4s 65ms/step - loss: 0.3387 - accuracy: 0.8681 - val_loss: 0.6025 - val_accuracy: 0.7730\n"
          ],
          "name": "stdout"
        }
      ]
    },
    {
      "cell_type": "markdown",
      "metadata": {
        "id": "aU9U1mr8HAcY"
      },
      "source": [
        "## Prediction on test set"
      ]
    },
    {
      "cell_type": "code",
      "metadata": {
        "id": "Yk_-E047HBfy"
      },
      "source": [
        "# run only if the previous code is runned, otherwise go to the next section\n",
        "\n",
        "from sklearn import metrics\n",
        "from sklearn.metrics import classification_report\n",
        "\n",
        "y_pred = model.predict(epoch_fin_test)\n",
        "\n",
        "y_final = []\n",
        "\n",
        "for i in range(len(y_pred)):\n",
        "  if y_pred[i,1]>0.5:\n",
        "    y_final.append(1)\n",
        "  else:\n",
        "    y_final.append(0)\n",
        "\n",
        "y_final = np.array(y_final)"
      ],
      "execution_count": null,
      "outputs": []
    },
    {
      "cell_type": "markdown",
      "metadata": {
        "id": "__L7OarKHIod"
      },
      "source": [
        "#Prediction load model\n",
        "Here you can import models that are already saved and obtain the resulting metrics both for binary classification and letter prediction. The models we used are PCA10, PCA120, DS10, DS120 with KBBG. For the PCA120 (best model), we also have the Smote and ROS oversampling to make a comparison. "
      ]
    },
    {
      "cell_type": "code",
      "metadata": {
        "id": "wTslndZeNnx_"
      },
      "source": [
        "'''\n",
        "import matplotlib.pyplot as plt   \n",
        "import numpy as np                \n",
        "import os                         \n",
        "import pandas as pd\n",
        "from pathlib import Path          \n",
        "from scipy.io import loadmat      \n",
        "from scipy import signal          \n",
        "from tqdm.auto import tqdm  \n",
        "import h5py\n",
        "import keras\n",
        "from collections import Counter\n",
        "import csv\n",
        "import tensorflow as tf\n",
        "\n",
        "# here you import the test set of the model you are interested in\n",
        "hf2 = h5py.File('/content/drive/MyDrive/workshop_neuro/dataset/A/TEST/test_A_PCA_120.h5', 'r')\n",
        "hf3 = h5py.File('/content/drive/MyDrive/workshop_neuro/dataset/A/TEST/stimulus_code_test.h5', 'r')\n",
        "\n",
        "epoch_fin_test = hf2.get('dataset_epoch_test')\n",
        "epoch_labels_binary_test = hf2.get('dataset_epoch_labels_test')\n",
        "stimulus_code_test= hf3.get('StimulusCode')\n",
        "\n",
        "chars_test = []\n",
        "\n",
        "# Read file content\n",
        "with open('/content/drive/MyDrive/workshop_neuro/dataset/A/TEST/target_chars_test.csv', \"r\") as f:\n",
        "  file_content = f.read()\n",
        "  \n",
        "  # Loop over all rows (except first one)\n",
        "  for row in file_content.split(\"','\"): \n",
        "    chars_test.append(row)\n",
        "\n",
        "epoch_fin_test = np.array(epoch_fin_test)\n",
        "epoch_labels_binary_test =np.array(epoch_labels_binary_test)\n",
        "stimulus_code_test=np.array(stimulus_code_test)\n",
        "chars_test = np.array(chars_test)\n",
        "\n",
        "# Load model of interest\n",
        "filepath = Path('drive') / 'MyDrive'/'workshop_neuro'/'modelli_salvati'/'A'/'PCA_120_A'\n",
        "loaded_model = tf.keras.models.load_model(filepath)\n",
        "'''"
      ],
      "execution_count": null,
      "outputs": []
    },
    {
      "cell_type": "markdown",
      "metadata": {
        "id": "acDvj00qxuJx"
      },
      "source": [
        "## BINARY CLASSIFICATION\n"
      ]
    },
    {
      "cell_type": "code",
      "metadata": {
        "id": "0OR1wzZxHJjX"
      },
      "source": [
        "'''\n",
        "y_pred = loaded_model.predict(epoch_fin_test)\n",
        "\n",
        "y_final = []\n",
        "for i in range(len(y_pred)):\n",
        "  if y_pred[i,1]>0.5:\n",
        "    y_final.append(1)\n",
        "  else:\n",
        "    y_final.append(0)\n",
        "\n",
        "y_final = np.array(y_final)\n",
        "'''"
      ],
      "execution_count": null,
      "outputs": []
    },
    {
      "cell_type": "markdown",
      "metadata": {
        "id": "K0NT4ulUHSVh"
      },
      "source": [
        "# Metrics"
      ]
    },
    {
      "cell_type": "code",
      "metadata": {
        "id": "eTHFagkjHS4v",
        "colab": {
          "base_uri": "https://localhost:8080/"
        },
        "outputId": "9ef683e7-1177-4a4f-dda3-a8a76c8e2bca"
      },
      "source": [
        "from sklearn.metrics import confusion_matrix \n",
        "from sklearn.metrics import accuracy_score\n",
        "\n",
        "cm=confusion_matrix(y_pred=y_final,y_true=epoch_labels_binary_test) \n",
        "\n",
        "TN=cm[0,0] \n",
        "FP=cm[0,1] \n",
        "FN=cm[1,0] \n",
        "TP=cm[1,1]\n",
        "\n",
        "#Sensitivity:\n",
        "Se=TP/(TP+FN)\n",
        "\n",
        "#Specificity\n",
        "Sp=TN/(TN+FP)\n",
        "\n",
        "#Accuracy\n",
        "Acc=accuracy_score(y_pred=y_final,y_true=epoch_labels_binary_test)\n",
        "\n",
        "#Positive predicted value\n",
        "PPV=TP/(TP+FP)\n",
        "\n",
        "#Negative predictive value\n",
        "NPV=TN/(TN+FN)\n",
        "\n",
        "print(\"**********\") \n",
        "print(\"  Metrics  \") \n",
        "print(\"**********\") \n",
        "print(\"Accuracy = %.4f\" % Acc) \n",
        "print(\"True positive = %d\" % TP) \n",
        "print(\"True negative = %d\" % TN) \n",
        "print(\"False positive = %d\" % FP) \n",
        "print(\"False negative = %d\" % FN) \n",
        "print(\"Sensitivity = %.4f\" % Se) \n",
        "print(\"Specificity = %.4f\" % Sp) \n",
        "print(\"Positive predicted value = %.4f\" % PPV)\n",
        "print(\"Negative predictive value = %.4f\" % NPV)"
      ],
      "execution_count": null,
      "outputs": [
        {
          "output_type": "stream",
          "text": [
            "**********\n",
            "  Metrics  \n",
            "**********\n",
            "Accuracy = 0.7189\n",
            "True positive = 1836\n",
            "True negative = 11104\n",
            "False positive = 3896\n",
            "False negative = 1164\n",
            "Sensitivity = 0.6120\n",
            "Specificity = 0.7403\n",
            "Positive predicted value = 0.3203\n",
            "Negative predictive value = 0.9051\n"
          ],
          "name": "stdout"
        }
      ]
    },
    {
      "cell_type": "markdown",
      "metadata": {
        "id": "WsacZ-JnHVkr"
      },
      "source": [
        "# LETTER PREDICTION"
      ]
    },
    {
      "cell_type": "code",
      "metadata": {
        "id": "wiDuDFX5HWWt"
      },
      "source": [
        "MATRICE = [['A','B','C','D','E','F'], \n",
        "          ['G','H','I','J','K','L'],\n",
        "          ['M','N','O','P','Q','R'],\n",
        "           \n",
        "          ['S','T','U','V','W','X'],\n",
        "          ['Y','Z','1','2','3','4'],\n",
        "          ['5','6','7','8','9','_']]\n",
        "\n",
        "MATRICE = np.array(MATRICE)\n",
        "chars_test[0]='M'\n",
        "chars_test[-1]='R'"
      ],
      "execution_count": null,
      "outputs": []
    },
    {
      "cell_type": "markdown",
      "metadata": {
        "id": "3GXYa2mpHY9P"
      },
      "source": [
        "## Most common"
      ]
    },
    {
      "cell_type": "code",
      "metadata": {
        "id": "umsRevgxHbFt",
        "colab": {
          "base_uri": "https://localhost:8080/"
        },
        "outputId": "f681b9a0-1d21-4994-fb7a-3d7f3c282ac4"
      },
      "source": [
        "# Try to confirm algorithm with true labels of P300 and character target\n",
        "import collections \n",
        "save_column= []\n",
        "save_row= []\n",
        "pred_char= [] #our prediction character will be a vector of size = n_char\n",
        "n_trials=15\n",
        "n_epochs=180\n",
        "n_char=100\n",
        "n_total=n_epochs*n_char\n",
        "\n",
        "#Predict character \n",
        "for i in range(0, n_total, n_epochs): #iterate in y_final vector in intervals of 180. eg: start from 0 to 180, then 180 to 360\n",
        "  for j in range(i, i+n_epochs-1):    #from 0 untill 0+179 -> first 180 group; 2nd iteration: from 180 untill 180+179...\n",
        "    if y_final[j]==1 :\n",
        "      if stimulus_code_test[j]<7 :\n",
        "        save_column.append(stimulus_code_test[j])\n",
        "      else :\n",
        "        save_row.append(stimulus_code_test[j])\n",
        "\n",
        "  row = collections.Counter(save_row).most_common(1)[0][0] \n",
        "  print('row  %s' % collections.Counter(save_row))\n",
        "  row = int(row)\n",
        "   \n",
        "  column= collections.Counter(save_column).most_common(1)[0][0]\n",
        "  print('column  %s' % collections.Counter(save_column))\n",
        "  column= int(column) \n",
        "  \n",
        "  pred_char.append(MATRICE[row-7, column-1]) #if row is 7 we want to give index = 0, if column=1 we want column=0.\n",
        "  save_column= []\n",
        "  save_row= []"
      ],
      "execution_count": null,
      "outputs": [
        {
          "output_type": "stream",
          "text": [
            "row  Counter({10.0: 10, 12.0: 4, 7.0: 3, 8.0: 3, 11.0: 3, 9.0: 2})\n",
            "column  Counter({5.0: 11, 4.0: 5, 3.0: 4, 2.0: 3, 6.0: 3, 1.0: 3})\n",
            "row  Counter({9.0: 8, 7.0: 8, 8.0: 5, 11.0: 3, 10.0: 3, 12.0: 2})\n",
            "column  Counter({5.0: 10, 4.0: 4, 6.0: 3, 3.0: 3, 1.0: 3, 2.0: 3})\n",
            "row  Counter({11.0: 8, 10.0: 7, 7.0: 6, 8.0: 4, 9.0: 3, 12.0: 1})\n",
            "column  Counter({5.0: 7, 6.0: 6, 4.0: 5, 3.0: 3, 1.0: 3, 2.0: 1})\n",
            "row  Counter({9.0: 8, 10.0: 5, 8.0: 5, 11.0: 5, 12.0: 4, 7.0: 2})\n",
            "column  Counter({4.0: 10, 3.0: 7, 6.0: 4, 5.0: 4, 1.0: 3, 2.0: 2})\n",
            "row  Counter({8.0: 10, 7.0: 5, 9.0: 5, 11.0: 4, 12.0: 2, 10.0: 2})\n",
            "column  Counter({6.0: 9, 5.0: 6, 3.0: 4, 4.0: 4, 2.0: 3, 1.0: 2})\n",
            "row  Counter({11.0: 8, 9.0: 5, 8.0: 5, 7.0: 4, 12.0: 4, 10.0: 2})\n",
            "column  Counter({2.0: 9, 5.0: 6, 1.0: 5, 6.0: 5, 4.0: 4, 3.0: 3})\n",
            "row  Counter({7.0: 10, 11.0: 7, 8.0: 6, 9.0: 5, 10.0: 5, 12.0: 3})\n",
            "column  Counter({3.0: 9, 5.0: 6, 6.0: 5, 2.0: 4, 1.0: 3, 4.0: 2})\n",
            "row  Counter({9.0: 6, 11.0: 6, 7.0: 5, 8.0: 4, 10.0: 4, 12.0: 2})\n",
            "column  Counter({3.0: 12, 2.0: 5, 1.0: 4, 6.0: 4, 5.0: 4, 4.0: 2})\n",
            "row  Counter({9.0: 10, 11.0: 5, 8.0: 5, 12.0: 5, 10.0: 5, 7.0: 3})\n",
            "column  Counter({1.0: 11, 2.0: 6, 4.0: 5, 3.0: 4, 5.0: 3, 6.0: 2})\n",
            "row  Counter({9.0: 5, 12.0: 5, 8.0: 4, 10.0: 4, 7.0: 4, 11.0: 3})\n",
            "column  Counter({6.0: 12, 5.0: 5, 3.0: 3, 1.0: 3, 2.0: 3, 4.0: 3})\n",
            "row  Counter({9.0: 7, 8.0: 4, 10.0: 3, 7.0: 3, 12.0: 2, 11.0: 2})\n",
            "column  Counter({5.0: 11, 4.0: 5, 1.0: 5, 2.0: 4, 6.0: 4, 3.0: 2})\n",
            "row  Counter({10.0: 8, 11.0: 7, 9.0: 6, 12.0: 5, 8.0: 5, 7.0: 3})\n",
            "column  Counter({3.0: 9, 5.0: 6, 6.0: 6, 1.0: 5, 4.0: 3, 2.0: 2})\n",
            "row  Counter({8.0: 9, 7.0: 6, 10.0: 6, 12.0: 5, 11.0: 5, 9.0: 4})\n",
            "column  Counter({1.0: 6, 5.0: 5, 3.0: 4, 6.0: 3, 2.0: 3, 4.0: 2})\n",
            "row  Counter({12.0: 11, 9.0: 5, 8.0: 3, 7.0: 2, 10.0: 2, 11.0: 1})\n",
            "column  Counter({3.0: 8, 4.0: 6, 6.0: 4, 1.0: 4, 5.0: 4, 2.0: 3})\n",
            "row  Counter({11.0: 9, 10.0: 5, 8.0: 4, 7.0: 2, 9.0: 2, 12.0: 1})\n",
            "column  Counter({1.0: 9, 5.0: 6, 3.0: 6, 4.0: 4, 2.0: 4, 6.0: 2})\n",
            "row  Counter({7.0: 9, 8.0: 6, 10.0: 5, 12.0: 3, 9.0: 3, 11.0: 2})\n",
            "column  Counter({6.0: 11, 2.0: 7, 4.0: 6, 3.0: 6, 5.0: 3, 1.0: 3})\n",
            "row  Counter({11.0: 10, 12.0: 5, 10.0: 5, 7.0: 4, 9.0: 2, 8.0: 1})\n",
            "column  Counter({2.0: 8, 1.0: 7, 3.0: 6, 6.0: 5, 4.0: 5, 5.0: 5})\n",
            "row  Counter({7.0: 9, 11.0: 7, 10.0: 4, 9.0: 4, 12.0: 2, 8.0: 2})\n",
            "column  Counter({4.0: 9, 3.0: 6, 6.0: 5, 2.0: 4, 5.0: 3, 1.0: 3})\n",
            "row  Counter({7.0: 11, 10.0: 8, 11.0: 6, 8.0: 4, 9.0: 4, 12.0: 2})\n",
            "column  Counter({5.0: 7, 4.0: 4, 2.0: 4, 6.0: 2, 1.0: 2, 3.0: 1})\n",
            "row  Counter({11.0: 10, 7.0: 5, 8.0: 5, 10.0: 3, 9.0: 2, 12.0: 1})\n",
            "column  Counter({2.0: 11, 4.0: 7, 6.0: 4, 3.0: 2, 1.0: 2, 5.0: 1})\n",
            "row  Counter({11.0: 8, 7.0: 4, 9.0: 4, 8.0: 3, 12.0: 2, 10.0: 1})\n",
            "column  Counter({3.0: 12, 2.0: 6, 1.0: 6, 5.0: 3, 6.0: 2})\n",
            "row  Counter({7.0: 11, 12.0: 5, 8.0: 5, 11.0: 3, 9.0: 3, 10.0: 2})\n",
            "column  Counter({4.0: 9, 2.0: 8, 5.0: 5, 3.0: 4, 6.0: 3, 1.0: 1})\n",
            "row  Counter({9.0: 10, 12.0: 6, 10.0: 4, 7.0: 3, 8.0: 3, 11.0: 2})\n",
            "column  Counter({2.0: 8, 4.0: 8, 5.0: 7, 1.0: 4, 3.0: 4, 6.0: 3})\n",
            "row  Counter({12.0: 6, 8.0: 6, 7.0: 4, 11.0: 4, 9.0: 3, 10.0: 1})\n",
            "column  Counter({3.0: 8, 1.0: 6, 6.0: 5, 4.0: 5, 2.0: 3, 5.0: 2})\n",
            "row  Counter({12.0: 8, 10.0: 7, 11.0: 5, 9.0: 3, 8.0: 3, 7.0: 3})\n",
            "column  Counter({5.0: 10, 1.0: 5, 4.0: 4, 6.0: 3, 3.0: 3, 2.0: 1})\n",
            "row  Counter({9.0: 12, 10.0: 5, 12.0: 5, 7.0: 5, 8.0: 4, 11.0: 3})\n",
            "column  Counter({2.0: 6, 1.0: 5, 3.0: 5, 4.0: 4, 5.0: 4, 6.0: 2})\n",
            "row  Counter({9.0: 12, 12.0: 7, 8.0: 6, 7.0: 5, 11.0: 5, 10.0: 3})\n",
            "column  Counter({2.0: 11, 3.0: 4, 5.0: 4, 1.0: 3, 4.0: 3, 6.0: 1})\n",
            "row  Counter({7.0: 8, 10.0: 8, 11.0: 7, 9.0: 5, 12.0: 4, 8.0: 2})\n",
            "column  Counter({4.0: 8, 5.0: 6, 2.0: 4, 6.0: 4, 3.0: 3, 1.0: 1})\n",
            "row  Counter({8.0: 9, 10.0: 7, 11.0: 4, 7.0: 4, 12.0: 2, 9.0: 1})\n",
            "column  Counter({1.0: 9, 6.0: 6, 5.0: 5, 2.0: 4, 4.0: 3, 3.0: 3})\n",
            "row  Counter({9.0: 6, 11.0: 5, 10.0: 4, 8.0: 3, 7.0: 2, 12.0: 2})\n",
            "column  Counter({6.0: 12, 3.0: 5, 5.0: 3, 2.0: 2, 1.0: 2, 4.0: 2})\n",
            "row  Counter({9.0: 7, 10.0: 5, 12.0: 4, 8.0: 4, 11.0: 4, 7.0: 3})\n",
            "column  Counter({5.0: 10, 4.0: 5, 3.0: 5, 1.0: 4, 6.0: 3, 2.0: 2})\n",
            "row  Counter({7.0: 10, 12.0: 5, 8.0: 4, 9.0: 2, 10.0: 2, 11.0: 1})\n",
            "column  Counter({4.0: 10, 5.0: 5, 3.0: 4, 1.0: 4, 6.0: 4, 2.0: 2})\n",
            "row  Counter({8.0: 8, 12.0: 5, 9.0: 4, 7.0: 2, 10.0: 2, 11.0: 2})\n",
            "column  Counter({2.0: 7, 5.0: 6, 4.0: 6, 6.0: 4, 3.0: 3, 1.0: 2})\n",
            "row  Counter({7.0: 8, 10.0: 7, 11.0: 4, 8.0: 2, 9.0: 1, 12.0: 1})\n",
            "column  Counter({3.0: 9, 2.0: 7, 4.0: 7, 5.0: 3, 6.0: 2, 1.0: 2})\n",
            "row  Counter({9.0: 6, 10.0: 6, 12.0: 4, 8.0: 3, 7.0: 3, 11.0: 2})\n",
            "column  Counter({3.0: 12, 6.0: 8, 2.0: 5, 4.0: 4, 5.0: 3, 1.0: 2})\n",
            "row  Counter({10.0: 8, 8.0: 8, 11.0: 6, 7.0: 2, 9.0: 2, 12.0: 2})\n",
            "column  Counter({4.0: 9, 2.0: 5, 1.0: 3, 3.0: 3, 5.0: 2, 6.0: 2})\n",
            "row  Counter({9.0: 7, 8.0: 4, 12.0: 3, 11.0: 3, 10.0: 2})\n",
            "column  Counter({6.0: 11, 1.0: 6, 2.0: 6, 5.0: 5, 3.0: 5, 4.0: 2})\n",
            "row  Counter({9.0: 12, 11.0: 6, 7.0: 4, 10.0: 2, 8.0: 2, 12.0: 1})\n",
            "column  Counter({1.0: 10, 5.0: 7, 6.0: 4, 4.0: 3, 3.0: 2, 2.0: 2})\n",
            "row  Counter({7.0: 9, 9.0: 4, 12.0: 4, 11.0: 2, 8.0: 2, 10.0: 2})\n",
            "column  Counter({5.0: 11, 4.0: 6, 3.0: 6, 1.0: 4, 6.0: 3, 2.0: 2})\n",
            "row  Counter({10.0: 11, 8.0: 4, 9.0: 3, 11.0: 3, 7.0: 3, 12.0: 2})\n",
            "column  Counter({3.0: 12, 4.0: 5, 6.0: 3, 5.0: 3, 2.0: 3})\n",
            "row  Counter({9.0: 11, 7.0: 5, 10.0: 5, 8.0: 4, 12.0: 3, 11.0: 3})\n",
            "column  Counter({3.0: 12, 4.0: 5, 1.0: 3, 5.0: 3, 2.0: 2, 6.0: 1})\n",
            "row  Counter({7.0: 7, 9.0: 6, 11.0: 5, 12.0: 4, 10.0: 4, 8.0: 1})\n",
            "column  Counter({3.0: 9, 1.0: 6, 5.0: 5, 4.0: 5, 2.0: 5, 6.0: 3})\n",
            "row  Counter({9.0: 11, 7.0: 7, 10.0: 5, 12.0: 5, 8.0: 3, 11.0: 1})\n",
            "column  Counter({3.0: 10, 4.0: 7, 5.0: 4, 6.0: 4, 1.0: 4, 2.0: 3})\n",
            "row  Counter({8.0: 12, 7.0: 4, 9.0: 3, 11.0: 3, 10.0: 3, 12.0: 2})\n",
            "column  Counter({4.0: 9, 6.0: 5, 2.0: 5, 1.0: 5, 3.0: 5, 5.0: 4})\n",
            "row  Counter({7.0: 10, 9.0: 5, 12.0: 4, 8.0: 3, 10.0: 1, 11.0: 1})\n",
            "column  Counter({4.0: 10, 2.0: 8, 1.0: 5, 3.0: 5, 5.0: 3, 6.0: 1})\n",
            "row  Counter({11.0: 8, 7.0: 6, 10.0: 3, 12.0: 3, 8.0: 3, 9.0: 3})\n",
            "column  Counter({4.0: 11, 5.0: 4, 6.0: 4, 3.0: 4, 2.0: 3, 1.0: 2})\n",
            "row  Counter({10.0: 8, 9.0: 5, 8.0: 3, 12.0: 2, 7.0: 2, 11.0: 2})\n",
            "column  Counter({3.0: 10, 2.0: 7, 4.0: 3, 6.0: 3, 1.0: 3, 5.0: 2})\n",
            "row  Counter({7.0: 8, 10.0: 7, 8.0: 6, 12.0: 3, 11.0: 2, 9.0: 2})\n",
            "column  Counter({6.0: 10, 4.0: 7, 5.0: 5, 3.0: 3, 2.0: 2, 1.0: 1})\n",
            "row  Counter({11.0: 12, 8.0: 6, 7.0: 5, 10.0: 4, 9.0: 3, 12.0: 3})\n",
            "column  Counter({1.0: 13, 3.0: 6, 2.0: 5, 6.0: 4, 5.0: 3, 4.0: 2})\n",
            "row  Counter({9.0: 8, 7.0: 4, 10.0: 4, 8.0: 4, 11.0: 4, 12.0: 4})\n",
            "column  Counter({4.0: 13, 5.0: 6, 2.0: 3, 3.0: 3, 6.0: 3, 1.0: 2})\n",
            "row  Counter({10.0: 8, 9.0: 6, 11.0: 5, 12.0: 4, 8.0: 1, 7.0: 1})\n",
            "column  Counter({3.0: 8, 4.0: 5, 5.0: 5, 2.0: 5, 6.0: 3, 1.0: 1})\n",
            "row  Counter({9.0: 9, 8.0: 4, 11.0: 3, 7.0: 3, 12.0: 3, 10.0: 2})\n",
            "column  Counter({3.0: 13, 1.0: 5, 5.0: 5, 2.0: 4, 4.0: 3, 6.0: 2})\n",
            "row  Counter({12.0: 8, 10.0: 6, 8.0: 6, 9.0: 5, 11.0: 2, 7.0: 1})\n",
            "column  Counter({2.0: 9, 4.0: 7, 1.0: 5, 5.0: 4, 3.0: 4, 6.0: 3})\n",
            "row  Counter({8.0: 8, 12.0: 6, 10.0: 5, 9.0: 5, 7.0: 4, 11.0: 2})\n",
            "column  Counter({5.0: 8, 4.0: 7, 2.0: 4, 3.0: 4, 6.0: 3, 1.0: 3})\n",
            "row  Counter({12.0: 9, 9.0: 4, 8.0: 3, 7.0: 3, 10.0: 2, 11.0: 2})\n",
            "column  Counter({3.0: 11, 1.0: 5, 2.0: 4, 5.0: 4, 6.0: 2, 4.0: 1})\n",
            "row  Counter({8.0: 7, 9.0: 6, 7.0: 5, 12.0: 4, 10.0: 4, 11.0: 1})\n",
            "column  Counter({6.0: 14, 1.0: 6, 2.0: 5, 4.0: 3, 3.0: 3, 5.0: 3})\n",
            "row  Counter({7.0: 9, 11.0: 6, 8.0: 5, 9.0: 5, 10.0: 5, 12.0: 2})\n",
            "column  Counter({4.0: 11, 6.0: 5, 5.0: 4, 1.0: 3, 2.0: 3, 3.0: 2})\n",
            "row  Counter({7.0: 7, 8.0: 5, 9.0: 4, 11.0: 3, 10.0: 2, 12.0: 1})\n",
            "column  Counter({1.0: 11, 3.0: 7, 4.0: 4, 2.0: 3, 5.0: 3, 6.0: 3})\n",
            "row  Counter({11.0: 8, 9.0: 4, 10.0: 4, 8.0: 4, 7.0: 1, 12.0: 1})\n",
            "column  Counter({3.0: 7, 1.0: 7, 5.0: 3, 6.0: 3, 2.0: 3})\n",
            "row  Counter({7.0: 7, 10.0: 5, 8.0: 4, 9.0: 3, 11.0: 2, 12.0: 2})\n",
            "column  Counter({5.0: 9, 3.0: 6, 6.0: 6, 4.0: 4, 2.0: 4, 1.0: 3})\n",
            "row  Counter({8.0: 10, 11.0: 5, 10.0: 4, 7.0: 4, 9.0: 3, 12.0: 2})\n",
            "column  Counter({1.0: 10, 2.0: 4, 3.0: 4, 6.0: 4, 4.0: 2, 5.0: 1})\n",
            "row  Counter({9.0: 7, 7.0: 6, 8.0: 5, 11.0: 4, 10.0: 3, 12.0: 3})\n",
            "column  Counter({3.0: 12, 2.0: 5, 4.0: 3, 1.0: 3, 6.0: 2, 5.0: 2})\n",
            "row  Counter({8.0: 7, 9.0: 6, 7.0: 6, 12.0: 5, 10.0: 3, 11.0: 2})\n",
            "column  Counter({1.0: 10, 3.0: 7, 2.0: 4, 4.0: 4, 5.0: 3, 6.0: 1})\n",
            "row  Counter({12.0: 9, 11.0: 5, 7.0: 5, 8.0: 3, 10.0: 2, 9.0: 2})\n",
            "column  Counter({1.0: 10, 6.0: 6, 4.0: 5, 3.0: 4, 5.0: 3, 2.0: 2})\n",
            "row  Counter({10.0: 9, 7.0: 5, 11.0: 4, 8.0: 2, 9.0: 2, 12.0: 2})\n",
            "column  Counter({4.0: 11, 3.0: 7, 2.0: 5, 5.0: 4, 6.0: 3, 1.0: 1})\n",
            "row  Counter({11.0: 6, 8.0: 5, 10.0: 5, 7.0: 3, 9.0: 2, 12.0: 1})\n",
            "column  Counter({2.0: 9, 6.0: 6, 4.0: 5, 1.0: 5, 5.0: 3, 3.0: 3})\n",
            "row  Counter({9.0: 8, 7.0: 5, 8.0: 5, 10.0: 3, 12.0: 3, 11.0: 2})\n",
            "column  Counter({2.0: 10, 1.0: 6, 5.0: 5, 3.0: 5, 4.0: 4, 6.0: 2})\n",
            "row  Counter({7.0: 11, 8.0: 7, 12.0: 4, 10.0: 3, 9.0: 2, 11.0: 1})\n",
            "column  Counter({5.0: 13, 4.0: 7, 3.0: 5, 1.0: 5, 2.0: 3, 6.0: 3})\n",
            "row  Counter({8.0: 10, 10.0: 4, 11.0: 4, 9.0: 4, 7.0: 4, 12.0: 3})\n",
            "column  Counter({2.0: 7, 5.0: 6, 6.0: 5, 1.0: 5, 4.0: 4, 3.0: 1})\n",
            "row  Counter({7.0: 12, 8.0: 6, 9.0: 5, 10.0: 5, 12.0: 2, 11.0: 2})\n",
            "column  Counter({2.0: 9, 1.0: 8, 5.0: 4, 4.0: 4, 3.0: 4, 6.0: 3})\n",
            "row  Counter({10.0: 9, 7.0: 6, 9.0: 6, 11.0: 5, 8.0: 3, 12.0: 2})\n",
            "column  Counter({5.0: 6, 2.0: 6, 1.0: 5, 6.0: 4, 4.0: 3, 3.0: 3})\n",
            "row  Counter({8.0: 7, 10.0: 6, 11.0: 5, 12.0: 5, 9.0: 3, 7.0: 3})\n",
            "column  Counter({6.0: 9, 3.0: 5, 4.0: 4, 2.0: 3, 5.0: 3, 1.0: 2})\n",
            "row  Counter({9.0: 10, 10.0: 5, 8.0: 4, 11.0: 3, 12.0: 2, 7.0: 1})\n",
            "column  Counter({3.0: 13, 6.0: 5, 1.0: 4, 2.0: 4, 5.0: 3, 4.0: 1})\n",
            "row  Counter({9.0: 8, 12.0: 5, 11.0: 4, 7.0: 3, 8.0: 2, 10.0: 1})\n",
            "column  Counter({3.0: 12, 6.0: 7, 4.0: 6, 1.0: 3, 5.0: 3})\n",
            "row  Counter({11.0: 13, 9.0: 6, 12.0: 5, 8.0: 4, 10.0: 2, 7.0: 2})\n",
            "column  Counter({3.0: 8, 5.0: 6, 2.0: 5, 4.0: 4, 6.0: 3, 1.0: 2})\n",
            "row  Counter({10.0: 9, 11.0: 5, 9.0: 4, 7.0: 4, 12.0: 3, 8.0: 2})\n",
            "column  Counter({2.0: 10, 5.0: 6, 3.0: 6, 6.0: 5, 4.0: 4, 1.0: 3})\n",
            "row  Counter({7.0: 11, 8.0: 6, 9.0: 3, 11.0: 3, 12.0: 3, 10.0: 2})\n",
            "column  Counter({4.0: 9, 5.0: 5, 6.0: 5, 3.0: 4, 2.0: 4, 1.0: 2})\n",
            "row  Counter({9.0: 10, 7.0: 7, 12.0: 4, 10.0: 3, 8.0: 1, 11.0: 1})\n",
            "column  Counter({2.0: 8, 3.0: 8, 5.0: 6, 6.0: 5, 4.0: 4, 1.0: 2})\n",
            "row  Counter({8.0: 5, 7.0: 4, 9.0: 4, 12.0: 4, 11.0: 2, 10.0: 2})\n",
            "column  Counter({3.0: 8, 2.0: 8, 1.0: 4, 4.0: 3, 5.0: 3, 6.0: 3})\n",
            "row  Counter({8.0: 8, 7.0: 5, 11.0: 4, 12.0: 3, 10.0: 2, 9.0: 2})\n",
            "column  Counter({6.0: 11, 2.0: 6, 1.0: 5, 5.0: 4, 4.0: 4, 3.0: 1})\n",
            "row  Counter({10.0: 9, 12.0: 5, 9.0: 4, 11.0: 4, 8.0: 4, 7.0: 2})\n",
            "column  Counter({3.0: 9, 4.0: 5, 2.0: 5, 6.0: 5, 1.0: 2, 5.0: 2})\n",
            "row  Counter({7.0: 7, 8.0: 6, 12.0: 5, 10.0: 3, 9.0: 3, 11.0: 3})\n",
            "column  Counter({5.0: 7, 6.0: 7, 2.0: 4, 4.0: 4, 1.0: 3, 3.0: 2})\n",
            "row  Counter({7.0: 7, 12.0: 5, 10.0: 4, 9.0: 3, 8.0: 3, 11.0: 3})\n",
            "column  Counter({5.0: 10, 4.0: 5, 6.0: 5, 3.0: 5, 1.0: 4, 2.0: 4})\n",
            "row  Counter({12.0: 9, 7.0: 6, 10.0: 3, 8.0: 2, 11.0: 1, 9.0: 1})\n",
            "column  Counter({1.0: 7, 6.0: 5, 5.0: 4, 4.0: 4, 3.0: 4, 2.0: 4})\n",
            "row  Counter({8.0: 7, 7.0: 6, 9.0: 6, 12.0: 3, 11.0: 2, 10.0: 2})\n",
            "column  Counter({2.0: 11, 1.0: 8, 5.0: 6, 4.0: 4, 3.0: 3, 6.0: 1})\n",
            "row  Counter({7.0: 7, 10.0: 5, 8.0: 4, 9.0: 3, 11.0: 3, 12.0: 3})\n",
            "column  Counter({6.0: 9, 3.0: 7, 1.0: 6, 2.0: 5, 4.0: 3, 5.0: 3})\n",
            "row  Counter({8.0: 6, 9.0: 6, 7.0: 6, 12.0: 5, 11.0: 4, 10.0: 4})\n",
            "column  Counter({1.0: 7, 2.0: 6, 5.0: 5, 3.0: 4, 4.0: 3, 6.0: 3})\n",
            "row  Counter({7.0: 11, 9.0: 8, 12.0: 6, 11.0: 6, 10.0: 4, 8.0: 3})\n",
            "column  Counter({5.0: 6, 1.0: 6, 6.0: 4, 3.0: 2, 4.0: 2, 2.0: 2})\n",
            "row  Counter({7.0: 7, 11.0: 5, 8.0: 4, 9.0: 3, 10.0: 3, 12.0: 1})\n",
            "column  Counter({5.0: 10, 1.0: 7, 6.0: 5, 4.0: 5, 2.0: 2, 3.0: 2})\n",
            "row  Counter({10.0: 10, 12.0: 5, 11.0: 3, 9.0: 3, 7.0: 3, 8.0: 1})\n",
            "column  Counter({6.0: 10, 5.0: 4, 1.0: 4, 4.0: 4, 2.0: 3, 3.0: 1})\n",
            "row  Counter({8.0: 8, 7.0: 7, 10.0: 4, 12.0: 4, 11.0: 2, 9.0: 2})\n",
            "column  Counter({1.0: 10, 2.0: 4, 5.0: 4, 3.0: 3, 4.0: 3, 6.0: 2})\n",
            "row  Counter({10.0: 8, 9.0: 6, 7.0: 6, 11.0: 4, 12.0: 2, 8.0: 1})\n",
            "column  Counter({5.0: 12, 2.0: 6, 1.0: 4, 6.0: 4, 4.0: 3, 3.0: 2})\n",
            "row  Counter({11.0: 7, 7.0: 5, 12.0: 5, 9.0: 5, 8.0: 4, 10.0: 2})\n",
            "column  Counter({6.0: 7, 3.0: 7, 2.0: 6, 1.0: 3, 5.0: 3, 4.0: 2})\n",
            "row  Counter({8.0: 9, 10.0: 4, 12.0: 3, 7.0: 3, 9.0: 3, 11.0: 2})\n",
            "column  Counter({5.0: 9, 6.0: 8, 2.0: 7, 3.0: 5, 4.0: 3, 1.0: 3})\n",
            "row  Counter({7.0: 7, 11.0: 7, 12.0: 6, 10.0: 3, 9.0: 3, 8.0: 2})\n",
            "column  Counter({6.0: 7, 1.0: 6, 4.0: 4, 5.0: 4, 3.0: 3, 2.0: 3})\n",
            "row  Counter({9.0: 9, 8.0: 3, 12.0: 3, 10.0: 3, 11.0: 2, 7.0: 1})\n",
            "column  Counter({6.0: 12, 5.0: 7, 1.0: 6, 4.0: 3, 3.0: 3, 2.0: 3})\n",
            "row  Counter({11.0: 9, 12.0: 6, 9.0: 5, 7.0: 3, 10.0: 3, 8.0: 2})\n",
            "column  Counter({5.0: 10, 6.0: 5, 1.0: 5, 4.0: 3, 3.0: 2, 2.0: 1})\n",
            "row  Counter({9.0: 10, 10.0: 6, 12.0: 5, 8.0: 4, 11.0: 4, 7.0: 2})\n",
            "column  Counter({1.0: 10, 2.0: 5, 3.0: 5, 5.0: 3, 6.0: 2})\n",
            "row  Counter({11.0: 6, 9.0: 4, 10.0: 4, 12.0: 3, 7.0: 2, 8.0: 1})\n",
            "column  Counter({4.0: 9, 6.0: 7, 2.0: 5, 5.0: 5, 1.0: 4, 3.0: 1})\n",
            "row  Counter({10.0: 13, 11.0: 8, 7.0: 2, 9.0: 2, 8.0: 2, 12.0: 2})\n",
            "column  Counter({3.0: 13, 1.0: 6, 5.0: 5, 2.0: 5, 6.0: 4, 4.0: 3})\n"
          ],
          "name": "stdout"
        }
      ]
    },
    {
      "cell_type": "code",
      "metadata": {
        "id": "1hAyeEAGHdTA",
        "colab": {
          "base_uri": "https://localhost:8080/"
        },
        "outputId": "ec687c05-fafb-443f-a9cf-2cd88e3918fa"
      },
      "source": [
        "count=0\n",
        "save_ind= []\n",
        "for i in range(len(pred_char)):\n",
        "  if pred_char[i]!=chars_test[i]:\n",
        "    save_ind.append(i)\n",
        "    count=count+1\n",
        "print('number of error letter predicted %i' % count)"
      ],
      "execution_count": null,
      "outputs": [
        {
          "output_type": "stream",
          "text": [
            "number of error letter predicted 27\n"
          ],
          "name": "stdout"
        }
      ]
    },
    {
      "cell_type": "code",
      "metadata": {
        "id": "jpV8ddOTHgXV"
      },
      "source": [
        "pred_char = np.array(pred_char)"
      ],
      "execution_count": null,
      "outputs": []
    },
    {
      "cell_type": "markdown",
      "metadata": {
        "id": "hDR4wzDUHktP"
      },
      "source": [
        "## Mean"
      ]
    },
    {
      "cell_type": "code",
      "metadata": {
        "id": "yIBO3jvoHmR2",
        "colab": {
          "base_uri": "https://localhost:8080/"
        },
        "outputId": "03153932-aa12-47da-d8a3-bb3918540c2b"
      },
      "source": [
        "# mean\n",
        "n_char=100\n",
        "sum_matrix=np.zeros((12,n_char))\n",
        "mean_matrix=np.zeros((12,n_char)) #for line = 0 this is stimulus code=1, line=1 stimulus_code=2 etc  \n",
        "mean_rep = []\n",
        "n_epochs=180\n",
        "stim_code=0\n",
        "count_matrix= np.zeros((12))\n",
        "\n",
        "for k in range(15):\n",
        "  for char in range(n_char): #0, 1,2,...\n",
        "  \n",
        "    for m in range(k+1):      #0,1, 2 ....14\n",
        "      for j in range(n_epochs*char +12*m, (n_epochs*char+12 +12*m)): # (0,12 ; 12, 12+12...), (180, 180+12;)\n",
        "      \n",
        "        stim_code=stimulus_code_test[j]\n",
        "        stim_code=int(stim_code)\n",
        "\n",
        "        count_matrix[stim_code-1]=count_matrix[stim_code-1] +1\n",
        "        sum_matrix[stim_code-1,char]= sum_matrix[stim_code-1,char] + y_pred[j,1]\n",
        "      mean_matrix[:,char]= sum_matrix[:,char]/count_matrix[:]\n",
        "  mean_rep.append(mean_matrix)\n",
        "  count_matrix = np.zeros((12))\n",
        "  sum_matrix=np.zeros((12,n_char))\n",
        "  mean_matrix=np.zeros((12,n_char))\n",
        "mean_rep = np.array(mean_rep)\n",
        "mean_rep.shape"
      ],
      "execution_count": null,
      "outputs": [
        {
          "output_type": "execute_result",
          "data": {
            "text/plain": [
              "(15, 12, 100)"
            ]
          },
          "metadata": {
            "tags": []
          },
          "execution_count": 34
        }
      ]
    },
    {
      "cell_type": "code",
      "metadata": {
        "id": "UgVHwtLvHr1l"
      },
      "source": [
        "letter_matrix = []\n",
        "row=0\n",
        "column=0\n",
        "max_column=0\n",
        "max_row=0\n",
        "pred_char_media=[]\n",
        "\n",
        "for k in range (15):\n",
        "  for char in range(n_char):\n",
        "    for i in range(12):\n",
        "      if i<6:\n",
        "        if max_column<mean_rep[k,i,char]:\n",
        "          max_column=mean_rep[k,i,char]\n",
        "          column=int(i)\n",
        "        \n",
        "      else:\n",
        "        if max_row<mean_rep[k,i,char]:\n",
        "          max_row=mean_rep[k,i,char]\n",
        "          row=int(i)\n",
        "\n",
        "    pred_char_media.append(MATRICE[row-6, column]) #if row is 7 we want to give index = 0, if column=1 we want column=0.\n",
        "    max_column=0\n",
        "    max_row=0\n",
        "\n",
        "  letter_matrix.append(pred_char_media)\n",
        "  pred_char_media=[]\n",
        "  \n",
        "letter_matrix= np.array(letter_matrix)"
      ],
      "execution_count": null,
      "outputs": []
    },
    {
      "cell_type": "code",
      "metadata": {
        "id": "DDWLyp7sHvUm",
        "colab": {
          "base_uri": "https://localhost:8080/"
        },
        "outputId": "3769ef26-8db8-4658-edaa-0776b8a9f988"
      },
      "source": [
        "count=np.zeros((15))\n",
        "accuracy = np.zeros((15))\n",
        "save_ind= []\n",
        "\n",
        "for k in range(15):\n",
        "\n",
        "  for i in range(100):\n",
        "    \n",
        "    if letter_matrix[k,i]!=chars_test[i]:\n",
        "      \n",
        "      count[k]=count[k]+1\n",
        "      accuracy[k] = (1 - count[k]/len(chars_test))*100\n",
        "  \n",
        "  print('number of error letter predicted  %i' % count[k])\n",
        "  print('accuracy  %i' % accuracy[k])\n",
        "\n",
        "  count=np.zeros((15))"
      ],
      "execution_count": null,
      "outputs": [
        {
          "output_type": "stream",
          "text": [
            "number of error letter predicted  90\n",
            "accuracy  9\n",
            "number of error letter predicted  76\n",
            "accuracy  24\n",
            "number of error letter predicted  66\n",
            "accuracy  34\n",
            "number of error letter predicted  59\n",
            "accuracy  41\n",
            "number of error letter predicted  52\n",
            "accuracy  48\n",
            "number of error letter predicted  44\n",
            "accuracy  56\n",
            "number of error letter predicted  39\n",
            "accuracy  61\n",
            "number of error letter predicted  32\n",
            "accuracy  68\n",
            "number of error letter predicted  30\n",
            "accuracy  70\n",
            "number of error letter predicted  23\n",
            "accuracy  77\n",
            "number of error letter predicted  21\n",
            "accuracy  79\n",
            "number of error letter predicted  17\n",
            "accuracy  83\n",
            "number of error letter predicted  18\n",
            "accuracy  82\n",
            "number of error letter predicted  12\n",
            "accuracy  88\n",
            "number of error letter predicted  8\n",
            "accuracy  92\n"
          ],
          "name": "stdout"
        }
      ]
    },
    {
      "cell_type": "markdown",
      "metadata": {
        "id": "gi4sKYDqpF9w"
      },
      "source": [
        "#.mat files for accuracy over repetition in MATLAB\n",
        "Here is the code to save the accuracy variable over the repetitions in order to obtain a graph in matlab"
      ]
    },
    {
      "cell_type": "code",
      "metadata": {
        "id": "a8tDWSZ1MB-B",
        "colab": {
          "base_uri": "https://localhost:8080/",
          "height": 52
        },
        "outputId": "a642b5ab-0606-4840-c666-bc64d6052312"
      },
      "source": [
        "'''\n",
        "import scipy.io as sio\n",
        "\n",
        "adict = {}\n",
        "adict['pkt_np_array2'] = accuracy\n",
        "sio.savemat('/content/drive/MyDrive/workshop_neuro/matlab/letter_accuracyvsrep_B.mat', adict)\n",
        "'''"
      ],
      "execution_count": null,
      "outputs": [
        {
          "output_type": "execute_result",
          "data": {
            "application/vnd.google.colaboratory.intrinsic+json": {
              "type": "string"
            },
            "text/plain": [
              "\"\\nimport scipy.io as sio\\n\\nadict = {}\\nadict['pkt_np_array2'] = accuracy\\nsio.savemat('/content/drive/MyDrive/workshop_neuro/matlab/letter_accuracyvsrep_B.mat', adict)\\n\""
            ]
          },
          "metadata": {
            "tags": []
          },
          "execution_count": 48
        }
      ]
    },
    {
      "cell_type": "markdown",
      "metadata": {
        "id": "QAPjeF47pWaE"
      },
      "source": [
        "#Save network to compare results"
      ]
    },
    {
      "cell_type": "code",
      "metadata": {
        "colab": {
          "base_uri": "https://localhost:8080/"
        },
        "id": "8GZAixwvPRkU",
        "outputId": "e03adffc-eefb-40a5-a740-07587cdc4f84"
      },
      "source": [
        "# Save model\n",
        "'''\n",
        "from tensorflow.keras.models import save_model, load_model\n",
        "filepath = Path('drive') / 'MyDrive' / 'workshop_neuro'/'modelli_salvati'/'A' /'PCA_120_SMOTE_A'\n",
        "#filepath = Path('drive') / 'MyDrive' /...\n",
        "save_model(model, filepath)\n",
        "'''"
      ],
      "execution_count": null,
      "outputs": [
        {
          "output_type": "stream",
          "text": [
            "WARNING:tensorflow:From /usr/local/lib/python3.6/dist-packages/tensorflow/python/training/tracking/tracking.py:111: Model.state_updates (from tensorflow.python.keras.engine.training) is deprecated and will be removed in a future version.\n",
            "Instructions for updating:\n",
            "This property should not be used in TensorFlow 2.0, as updates are applied automatically.\n",
            "WARNING:tensorflow:From /usr/local/lib/python3.6/dist-packages/tensorflow/python/training/tracking/tracking.py:111: Layer.updates (from tensorflow.python.keras.engine.base_layer) is deprecated and will be removed in a future version.\n",
            "Instructions for updating:\n",
            "This property should not be used in TensorFlow 2.0, as updates are applied automatically.\n",
            "INFO:tensorflow:Assets written to: drive/MyDrive/workshop_neuro/modelli_salvati/A/PCA_120_SMOTE_A/assets\n"
          ],
          "name": "stdout"
        }
      ]
    },
    {
      "cell_type": "code",
      "metadata": {
        "id": "ixl78ujwYgx0"
      },
      "source": [
        "do = np.zeros(10)\n",
        "Accuracy_lA = np.zeros(10)\n",
        "do[0] = 0\n",
        "Accuracy_lA[0] = 86\n",
        "do[9] = 90\n",
        "Accuracy_lA[9] = 78\n",
        "do[8] = 80\n",
        "Accuracy_lA[8] = 87\n",
        "do[7] = 70\n",
        "Accuracy_lA[7] = 89\n",
        "do[6] = 60\n",
        "Accuracy_lA[6] = 88\n",
        "do[5] = 50\n",
        "Accuracy_lA[5] = 92\n",
        "do[4] = 40\n",
        "Accuracy_lA[4] = 89\n",
        "do[3] = 30\n",
        "Accuracy_lA[3] = 87\n",
        "do[2] = 20\n",
        "Accuracy_lA[2] = 90\n",
        "do[1] = 10\n",
        "Accuracy_lA[1] = 84\n",
        "Accuracy_lB = np.zeros(10)\n",
        "Accuracy_lB[0] = 90\n",
        "Accuracy_lB[9] = 94\n",
        "Accuracy_lB[8] = 97\n",
        "Accuracy_lB[7] = 95\n",
        "Accuracy_lB[6] = 96\n",
        "Accuracy_lB[5] = 98\n",
        "Accuracy_lB[4] = 96\n",
        "Accuracy_lB[3] = 97\n",
        "Accuracy_lB[2] = 95\n",
        "Accuracy_lB[1] = 91\n"
      ],
      "execution_count": null,
      "outputs": []
    },
    {
      "cell_type": "code",
      "metadata": {
        "colab": {
          "base_uri": "https://localhost:8080/",
          "height": 349
        },
        "id": "mrHn3bVzZa-F",
        "outputId": "8c03f153-f48d-4f77-9ff1-e47a37e4f4f9"
      },
      "source": [
        "import matplotlib.pyplot as plt\n",
        "plt.bar(do-2, Accuracy_lA, color = 'orange', width =4, label = 'Subject A', edgecolor = 'black')\n",
        "plt.bar(do+2, Accuracy_lB, color = 'brown', width = 4, label = 'Subject B', edgecolor = 'black')\n",
        "plt.title('Letter Prediction Accuracy')\n",
        "plt.xlabel(\"Dropout rate(%)\")\n",
        "plt.ylabel('Letter accuracy(%)',labelpad=11)\n",
        "axes = plt.gca()\n",
        "axes.set_yticks([0,10,20,30,40,50,60,70,80,90,100])\n",
        "axes.set_xticks([0,10,20,30,40,50,60,70,80,90])\n",
        "#plt.grid(True)\n",
        "ax = plt.axes()        \n",
        "ax.yaxis.grid()\n",
        "plt.show()"
      ],
      "execution_count": null,
      "outputs": [
        {
          "output_type": "stream",
          "text": [
            "/usr/local/lib/python3.6/dist-packages/ipykernel_launcher.py:11: MatplotlibDeprecationWarning: Adding an axes using the same arguments as a previous axes currently reuses the earlier instance.  In a future version, a new instance will always be created and returned.  Meanwhile, this warning can be suppressed, and the future behavior ensured, by passing a unique label to each axes instance.\n",
            "  # This is added back by InteractiveShellApp.init_path()\n"
          ],
          "name": "stderr"
        },
        {
          "output_type": "display_data",
          "data": {
            "image/png": "[encoded data removed]",
            "text/plain": [
              "<Figure size 432x288 with 1 Axes>"
            ]
          },
          "metadata": {
            "tags": [],
            "needs_background": "light"
          }
        }
      ]
    },
    {
      "cell_type": "code",
      "metadata": {
        "id": "FP1_UivWZeZo"
      },
      "source": [
        "Accuracy_B = np.zeros(10)\n",
        "Accuracy_B[0] = 79\n",
        "Accuracy_B[9] = 61\n",
        "Accuracy_B[8] = 74\n",
        "Accuracy_B[7] = 75\n",
        "Accuracy_B[6] = 74\n",
        "Accuracy_B[5] = 77\n",
        "Accuracy_B[4] = 76\n",
        "Accuracy_B[3] = 78\n",
        "Accuracy_B[2] = 77\n",
        "Accuracy_B[1] = 75\n",
        "Accuracy_A = np.zeros(10)\n",
        "Accuracy_A[0] = 75\n",
        "Accuracy_A[9] = 49\n",
        "Accuracy_A[8] = 59\n",
        "Accuracy_A[7] = 65\n",
        "Accuracy_A[6] = 67\n",
        "Accuracy_A[5] = 71\n",
        "Accuracy_A[4] = 71\n",
        "Accuracy_A[3] = 71\n",
        "Accuracy_A[2] = 72\n",
        "Accuracy_A[1] = 74"
      ],
      "execution_count": null,
      "outputs": []
    },
    {
      "cell_type": "code",
      "metadata": {
        "colab": {
          "base_uri": "https://localhost:8080/",
          "height": 366
        },
        "id": "H3wiZj9fZhpN",
        "outputId": "6f47c009-b875-4b34-aeee-b5b960d2f921"
      },
      "source": [
        "import matplotlib.pyplot as plt\n",
        "plt.bar(do-2, Accuracy_A, color = 'orange', width =4, label = 'Subject A', edgecolor = 'black')\n",
        "plt.bar(do+2, Accuracy_B, color = 'brown', width = 4, label = 'Subject B', edgecolor = 'black')\n",
        "plt.title('Binary Classification Accuracy')\n",
        "plt.xlabel(\"Dropout rate(%)\")\n",
        "plt.ylabel('Classification accuracy(%)',labelpad = 11)\n",
        "plt.ylim(0,100)\n",
        "axes = plt.gca()\n",
        "axes.set_yticks([0,10,20,30,40,50,60,70,80,90,100])\n",
        "axes.set_xticks([0,10,20,30,40,50,60,70,80,90])\n",
        "#plt.grid(True)\n",
        "ax = plt.axes()        \n",
        "ax.yaxis.grid()\n",
        "plt.legend()\n",
        "plt.show()\n",
        "plt.savefig('Binary Classification.png')"
      ],
      "execution_count": null,
      "outputs": [
        {
          "output_type": "stream",
          "text": [
            "/usr/local/lib/python3.6/dist-packages/ipykernel_launcher.py:12: MatplotlibDeprecationWarning: Adding an axes using the same arguments as a previous axes currently reuses the earlier instance.  In a future version, a new instance will always be created and returned.  Meanwhile, this warning can be suppressed, and the future behavior ensured, by passing a unique label to each axes instance.\n",
            "  if sys.path[0] == '':\n"
          ],
          "name": "stderr"
        },
        {
          "output_type": "display_data",
          "data": {
            "image/png": "[encoded data removed]",
            "text/plain": [
              "<Figure size 432x288 with 1 Axes>"
            ]
          },
          "metadata": {
            "tags": [],
            "needs_background": "light"
          }
        },
        {
          "output_type": "display_data",
          "data": {
            "text/plain": [
              "<Figure size 432x288 with 0 Axes>"
            ]
          },
          "metadata": {
            "tags": []
          }
        }
      ]
    },
    {
      "cell_type": "code",
      "metadata": {
        "id": "AchiDdVHauhl"
      },
      "source": [
        ""
      ],
      "execution_count": null,
      "outputs": []
    }
  ]
}